{
 "cells": [
  {
   "cell_type": "code",
   "execution_count": 12,
   "metadata": {},
   "outputs": [],
   "source": [
    "import numpy as np \n",
    "import pandas as pd \n",
    "\n",
    "from sklearn.feature_extraction.text import CountVectorizer\n",
    "from keras.preprocessing.text import Tokenizer\n",
    "from keras.preprocessing.sequence import pad_sequences\n",
    "from keras.models import Sequential\n",
    "from keras.layers import Dense, Embedding, LSTM\n",
    "from sklearn.model_selection import train_test_split\n",
    "from keras.utils.np_utils import to_categorical\n",
    "import re"
   ]
  },
  {
   "cell_type": "code",
   "execution_count": 17,
   "metadata": {},
   "outputs": [],
   "source": [
    "df = pd.read_csv('FrenchData.csv')\n",
    "df.drop(columns=['Unnamed: 0'], axis=1,inplace=True)"
   ]
  },
  {
   "cell_type": "code",
   "execution_count": 27,
   "metadata": {},
   "outputs": [],
   "source": [
    "\n",
    "tokenizer = Tokenizer(num_words=2000, filters='!\"#$%&()*+,-./:;<=>?@[\\\\]^_`{|}~\\t\\n',\n",
    "                                   lower=True,split=' ')\n",
    "tokenizer.fit_on_texts(df['tweet'].values)\n"
   ]
  },
  {
   "cell_type": "code",
   "execution_count": 105,
   "metadata": {},
   "outputs": [],
   "source": [
    "X = tokenizer.texts_to_sequences(df['tweet'].values)\n",
    "X = pad_sequences(X)"
   ]
  },
  {
   "cell_type": "code",
   "execution_count": 106,
   "metadata": {},
   "outputs": [
    {
     "data": {
      "text/plain": [
       "(255852, 37)"
      ]
     },
     "execution_count": 106,
     "metadata": {},
     "output_type": "execute_result"
    }
   ],
   "source": [
    "X.shape"
   ]
  },
  {
   "cell_type": "code",
   "execution_count": 38,
   "metadata": {},
   "outputs": [
    {
     "name": "stderr",
     "output_type": "stream",
     "text": [
      "C:\\ProgramData\\Anaconda3\\lib\\site-packages\\ipykernel_launcher.py:7: UserWarning: The `dropout` argument is no longer support in `Embedding`. You can apply a `keras.layers.SpatialDropout1D` layer right after the `Embedding` layer to get the same behavior.\n",
      "  import sys\n",
      "C:\\ProgramData\\Anaconda3\\lib\\site-packages\\ipykernel_launcher.py:8: UserWarning: Update your `LSTM` call to the Keras 2 API: `LSTM(196, dropout=0.2, recurrent_dropout=0.2)`\n",
      "  \n"
     ]
    },
    {
     "name": "stdout",
     "output_type": "stream",
     "text": [
      "_________________________________________________________________\n",
      "Layer (type)                 Output Shape              Param #   \n",
      "=================================================================\n",
      "embedding_2 (Embedding)      (None, 43, 128)           256000    \n",
      "_________________________________________________________________\n",
      "lstm_2 (LSTM)                (None, 196)               254800    \n",
      "_________________________________________________________________\n",
      "dense_2 (Dense)              (None, 12)                2364      \n",
      "=================================================================\n",
      "Total params: 513,164\n",
      "Trainable params: 513,164\n",
      "Non-trainable params: 0\n",
      "_________________________________________________________________\n",
      "None\n"
     ]
    }
   ],
   "source": [
    "import sys\n",
    "embed_dim = 128\n",
    "lstm_out = 196\n",
    "batch_size = 32\n",
    "\n",
    "model = Sequential()\n",
    "model.add(Embedding(2000, embed_dim,input_length = X.shape[1], dropout = 0.2))\n",
    "model.add(LSTM(lstm_out, dropout_U = 0.2, dropout_W = 0.2))\n",
    "model.add(Dense(12,activation='softmax'))\n",
    "model.compile(loss = 'categorical_crossentropy', optimizer='adam',metrics = ['accuracy'])\n",
    "print(model.summary())"
   ]
  },
  {
   "cell_type": "code",
   "execution_count": 39,
   "metadata": {},
   "outputs": [
    {
     "name": "stdout",
     "output_type": "stream",
     "text": [
      "(204681, 43) (204681, 12)\n",
      "(51171, 43) (51171, 12)\n"
     ]
    }
   ],
   "source": [
    "Y = pd.get_dummies(df['polarity']).values\n",
    "X_train, X_test, Y_train, Y_test = train_test_split(X,Y, test_size = 0.2, random_state = 42)\n",
    "print(X_train.shape,Y_train.shape)\n",
    "print(X_test.shape,Y_test.shape)"
   ]
  },
  {
   "cell_type": "code",
   "execution_count": 40,
   "metadata": {},
   "outputs": [
    {
     "name": "stderr",
     "output_type": "stream",
     "text": [
      "W0805 15:16:53.916493 17532 deprecation.py:323] From C:\\ProgramData\\Anaconda3\\lib\\site-packages\\tensorflow\\python\\ops\\math_grad.py:1250: add_dispatch_support.<locals>.wrapper (from tensorflow.python.ops.array_ops) is deprecated and will be removed in a future version.\n",
      "Instructions for updating:\n",
      "Use tf.where in 2.0, which has the same broadcast rule as np.where\n"
     ]
    },
    {
     "name": "stdout",
     "output_type": "stream",
     "text": [
      "Epoch 1/1\n",
      "204681/204681 [==============================] - 657s 3ms/step - loss: 0.5043 - acc: 0.7508\n"
     ]
    },
    {
     "data": {
      "text/plain": [
       "<keras.callbacks.History at 0x1f0b03c4cc0>"
      ]
     },
     "execution_count": 40,
     "metadata": {},
     "output_type": "execute_result"
    }
   ],
   "source": [
    "model.fit(X_train, Y_train, batch_size = batch_size, epochs = 1)"
   ]
  },
  {
   "cell_type": "code",
   "execution_count": 41,
   "metadata": {},
   "outputs": [
    {
     "data": {
      "text/plain": [
       "<keras.engine.sequential.Sequential at 0x1f0b03fc278>"
      ]
     },
     "execution_count": 41,
     "metadata": {},
     "output_type": "execute_result"
    }
   ],
   "source": [
    "model\n",
    "\n"
   ]
  },
  {
   "cell_type": "code",
   "execution_count": 42,
   "metadata": {},
   "outputs": [
    {
     "name": "stdout",
     "output_type": "stream",
     "text": [
      "Score: 0.47\n",
      "Validation Accuracy: 0.78\n"
     ]
    }
   ],
   "source": [
    "score,acc = model.evaluate(X_test, Y_test, verbose = 2, batch_size = batch_size)\n",
    "print(\"Score: %.2f\" % (score))\n",
    "print(\"Validation Accuracy: %.2f\" % (acc))"
   ]
  },
  {
   "cell_type": "code",
   "execution_count": 95,
   "metadata": {},
   "outputs": [],
   "source": [
    "test = pd.read_csv('test.csv')\n",
    "pd.set_option('display.max_colwidth',-1)\n"
   ]
  },
  {
   "cell_type": "code",
   "execution_count": 96,
   "metadata": {},
   "outputs": [
    {
     "data": {
      "text/html": [
       "<div>\n",
       "<style scoped>\n",
       "    .dataframe tbody tr th:only-of-type {\n",
       "        vertical-align: middle;\n",
       "    }\n",
       "\n",
       "    .dataframe tbody tr th {\n",
       "        vertical-align: top;\n",
       "    }\n",
       "\n",
       "    .dataframe thead th {\n",
       "        text-align: right;\n",
       "    }\n",
       "</style>\n",
       "<table border=\"1\" class=\"dataframe\">\n",
       "  <thead>\n",
       "    <tr style=\"text-align: right;\">\n",
       "      <th></th>\n",
       "      <th>article</th>\n",
       "    </tr>\n",
       "  </thead>\n",
       "  <tbody>\n",
       "    <tr>\n",
       "      <th>0</th>\n",
       "      <td>L’Assemblée générale des Nations-Unies, a organisé une session extraordinaire, le jeudi 1er Août 2019, à New York, qui a été consacrée au défunt président tunisien, ,Mohamed Béji Caïd Essebsi,, et à laquelle ont assisté le Secrétaire général des Nations-Unies, ,Antonio Guterres,, et la Présidente de l’Assemblée générale, ,Maria Fernanda Espinosa,.,Au début de cette séance, les représentants des États membres de l’Organisation des Nations-Unies, ont observé une minute de silence en hommage à la mémoire du défunt Président de la République.,L’ambassadeur chargé d’affaires par intérim de la Mission de la République tunisienne auprès de l’Organisation des Nations Unies, a prononcé l’allocution du ministre des Affaires étrangères, ,Khémaïes Jhinaoui,, lequel n’avait pu se déplacer à New York et se joindre à cette cérémonie, en raison de l’engagement des membres du Gouvernement à prendre part à la période de deuil national, ainsi que sa présidence de la réunion exceptionnelle entrant dans le cadre de 37ème édition de la Conférence annuelle des Chefs des missions diplomatiques, permanentes et consulaires.,En prenant la parole, Antonio Guterres a rendu un vibrant hommage à la mémoire de Béji Caïd Essebsi, qu’il a qualifié de « ,Grand homme ,d’État, » tout en soulignant qu’il s’agit d’une grande perte pour la Tunisie comme pour toute la région.,Il a ajouté « ,Alors que la Tunisie pleure la disparition de ce pionnier, les Tunisiens peuvent être fiers du riche héritage qu’il laisse derrière lui., ,A noter que le drapeau de l’ONU a été mis en berne, durant la journée du 1er Août, dans toutes les représentations des Nations-Unies dans le monde.</td>\n",
       "    </tr>\n",
       "    <tr>\n",
       "      <th>1</th>\n",
       "      <td>Une ,cérémonie d’investiture, du Président de la République provisoire, ,Mohamed Ennaceur,, a été organisée au Palais de Carthage, dans la matinée du 1er Août 2019, lors de laquelle le Chef de l’État, a salué le Drapeau national, sur les airs rythmés de l’Hymne national, ainsi qu’une composition des trois corps d’armée., , , ,Le Président de la  République saluant MM. Habib Essid et Lazhar Karoui Chebbi ,</td>\n",
       "    </tr>\n",
       "    <tr>\n",
       "      <th>2</th>\n",
       "      <td>\\r\\r\\n\\tQuelques heures après avoir assisté aux funérailles nationales du président Beji Caid Essebsi pendant lesquelles il a fait l’éloge du défunt, le président français Emmanuel Macron a posté un tweet dans lequel il a évoqué toute son émotion.,\\r\\r\\n\\tDans son tweet, Macron évoque également toute son admiration face au peuple tunisien et à la nouvelle Tunisie fière et démocratique.,\\r\\r\\n\\t ,\\r\\r\\n\\t\\tLa Tunisie perd un grand Président. Nous perdons un ami. Les combats de Béji Caïd Essebsi ne sont pas terminés. C’est au peuple tunisien qu’il revient aujourd’hui de continuer à porter une Tunisie ouverte, tolérante et patriotique. Une Tunisie qui aime la liberté et la défend.</td>\n",
       "    </tr>\n",
       "    <tr>\n",
       "      <th>3</th>\n",
       "      <td>\\r\\r\\n\\tLe ministre de la défense Abdelkrim Zbidi est revenu sur la dernière rencontre avec le président défunt Beji Caid Essesbi au palais de Carthage lundi dernier 22 juillet.,\\r\\r\\n\\tLe ministre a assuré que le défunt avait essayé de cacher avec beaucoup de tact son état de santé mais lui avait finalement déclaré « je sais que mon heure est arrivée et nous sommes préparés à la volonté de Dieu ».,\\r\\r\\n\\tZbidi a ajouté que Beji lui avait présenté beaucoup de messages positifs mais avait considéré que le temps n’est pas adéquat à les faire connaitre médiatiquement, selon lui.,\\r\\r\\n\\t</td>\n",
       "    </tr>\n",
       "    <tr>\n",
       "      <th>4</th>\n",
       "      <td>\\r\\r\\n\\tLe président syrien a envoyé un télégramme de condoléances aux autorités tunisiennes pour le décès du président Beji Caid Essebsi.,\\r\\r\\n\\tLa correspondance parvient six jours après le décès du défunt Beji et malgré une rupture diplomatique entre Tunis et Damas depuis 2012 qui a entraîné l’absence de la Syrie au sommet arabe organisé à Tunis malgré les efforts déployés pour la réconciliation.,\\r\\r\\n\\tDans ce message, le président syrien a déclaré « j’ai appris avec une immense tristesse le décès du président de la république tunisienne Mohamed Beji caid Essebsi qui a travaillé toute sa vie pour servir son pays » en présentant ses condoléancés au peuple tunisien.,\\r\\r\\n\\t</td>\n",
       "    </tr>\n",
       "  </tbody>\n",
       "</table>\n",
       "</div>"
      ],
      "text/plain": [
       "                                                                                                                                                                                                                                                                                                                                                                                                                                                                                                                                                                                                                                                                                                                                                                                                                                                                                                                                                                                                                                                                                                                                                                                                                                                                                                                                                                                                                                                                                                                                                                                                                                                                                                                       article\n",
       "0  L’Assemblée générale des Nations-Unies, a organisé une session extraordinaire, le jeudi 1er Août 2019, à New York, qui a été consacrée au défunt président tunisien, ,Mohamed Béji Caïd Essebsi,, et à laquelle ont assisté le Secrétaire général des Nations-Unies, ,Antonio Guterres,, et la Présidente de l’Assemblée générale, ,Maria Fernanda Espinosa,.,Au début de cette séance, les représentants des États membres de l’Organisation des Nations-Unies, ont observé une minute de silence en hommage à la mémoire du défunt Président de la République.,L’ambassadeur chargé d’affaires par intérim de la Mission de la République tunisienne auprès de l’Organisation des Nations Unies, a prononcé l’allocution du ministre des Affaires étrangères, ,Khémaïes Jhinaoui,, lequel n’avait pu se déplacer à New York et se joindre à cette cérémonie, en raison de l’engagement des membres du Gouvernement à prendre part à la période de deuil national, ainsi que sa présidence de la réunion exceptionnelle entrant dans le cadre de 37ème édition de la Conférence annuelle des Chefs des missions diplomatiques, permanentes et consulaires.,En prenant la parole, Antonio Guterres a rendu un vibrant hommage à la mémoire de Béji Caïd Essebsi, qu’il a qualifié de « ,Grand homme ,d’État, » tout en soulignant qu’il s’agit d’une grande perte pour la Tunisie comme pour toute la région.,Il a ajouté « ,Alors que la Tunisie pleure la disparition de ce pionnier, les Tunisiens peuvent être fiers du riche héritage qu’il laisse derrière lui., ,A noter que le drapeau de l’ONU a été mis en berne, durant la journée du 1er Août, dans toutes les représentations des Nations-Unies dans le monde.\n",
       "1  Une ,cérémonie d’investiture, du Président de la République provisoire, ,Mohamed Ennaceur,, a été organisée au Palais de Carthage, dans la matinée du 1er Août 2019, lors de laquelle le Chef de l’État, a salué le Drapeau national, sur les airs rythmés de l’Hymne national, ainsi qu’une composition des trois corps d’armée., , , ,Le Président de la  République saluant MM. Habib Essid et Lazhar Karoui Chebbi ,                                                                                                                                                                                                                                                                                                                                                                                                                                                                                                                                                                                                                                                                                                                                                                                                                                                                                                                                                                                                                                                                                                                                                                                                                                                                                                   \n",
       "2  \\r\\r\\n\\tQuelques heures après avoir assisté aux funérailles nationales du président Beji Caid Essebsi pendant lesquelles il a fait l’éloge du défunt, le président français Emmanuel Macron a posté un tweet dans lequel il a évoqué toute son émotion.,\\r\\r\\n\\tDans son tweet, Macron évoque également toute son admiration face au peuple tunisien et à la nouvelle Tunisie fière et démocratique.,\\r\\r\\n\\t ,\\r\\r\\n\\t\\tLa Tunisie perd un grand Président. Nous perdons un ami. Les combats de Béji Caïd Essebsi ne sont pas terminés. C’est au peuple tunisien qu’il revient aujourd’hui de continuer à porter une Tunisie ouverte, tolérante et patriotique. Une Tunisie qui aime la liberté et la défend.                                                                                                                                                                                                                                                                                                                                                                                                                                                                                                                                                                                                                                                                                                                                                                                                                                                                                                                                                                                                             \n",
       "3  \\r\\r\\n\\tLe ministre de la défense Abdelkrim Zbidi est revenu sur la dernière rencontre avec le président défunt Beji Caid Essesbi au palais de Carthage lundi dernier 22 juillet.,\\r\\r\\n\\tLe ministre a assuré que le défunt avait essayé de cacher avec beaucoup de tact son état de santé mais lui avait finalement déclaré « je sais que mon heure est arrivée et nous sommes préparés à la volonté de Dieu ».,\\r\\r\\n\\tZbidi a ajouté que Beji lui avait présenté beaucoup de messages positifs mais avait considéré que le temps n’est pas adéquat à les faire connaitre médiatiquement, selon lui.,\\r\\r\\n\\t                                                                                                                                                                                                                                                                                                                                                                                                                                                                                                                                                                                                                                                                                                                                                                                                                                                                                                                                                                                                                                                                                                           \n",
       "4  \\r\\r\\n\\tLe président syrien a envoyé un télégramme de condoléances aux autorités tunisiennes pour le décès du président Beji Caid Essebsi.,\\r\\r\\n\\tLa correspondance parvient six jours après le décès du défunt Beji et malgré une rupture diplomatique entre Tunis et Damas depuis 2012 qui a entraîné l’absence de la Syrie au sommet arabe organisé à Tunis malgré les efforts déployés pour la réconciliation.,\\r\\r\\n\\tDans ce message, le président syrien a déclaré « j’ai appris avec une immense tristesse le décès du président de la république tunisienne Mohamed Beji caid Essebsi qui a travaillé toute sa vie pour servir son pays » en présentant ses condoléancés au peuple tunisien.,\\r\\r\\n\\t                                                                                                                                                                                                                                                                                                                                                                                                                                                                                                                                                                                                                                                                                                                                                                                                                                                                                                                                                                                                            "
      ]
     },
     "execution_count": 96,
     "metadata": {},
     "output_type": "execute_result"
    }
   ],
   "source": [
    "test=test[['article']]\n",
    "test.head()\n"
   ]
  },
  {
   "cell_type": "code",
   "execution_count": 75,
   "metadata": {},
   "outputs": [],
   "source": [
    "tokenizer = Tokenizer(num_words=2000, filters='!\"#$%&()*+,-./:;<=>?@[\\\\]^_`{|}~\\t\\n',\n",
    "                                   lower=True,split=' ')\n",
    "tokenizer.fit_on_texts(test['article'].values)"
   ]
  },
  {
   "cell_type": "code",
   "execution_count": 91,
   "metadata": {},
   "outputs": [],
   "source": [
    "X1 = tokenizer.texts_to_sequences(test['article'].values)\n",
    "X1 = pad_sequences(X1)"
   ]
  },
  {
   "cell_type": "code",
   "execution_count": 107,
   "metadata": {},
   "outputs": [
    {
     "name": "stdout",
     "output_type": "stream",
     "text": [
      "(346, 1707)\n",
      "(255852, 37)\n",
      "(51171, 43)\n"
     ]
    }
   ],
   "source": [
    "#mochkla f shape mch kif manaarech aaleh akika sobhan rabek nrmlment \n",
    "#au mpins X w X_test ykkoun aandhom nafs shape aala9al zid chouf pk \n",
    "print(X1.shape)\n",
    "print(X.shape)\n",
    "print(X_test.shape)"
   ]
  },
  {
   "cell_type": "code",
   "execution_count": 98,
   "metadata": {},
   "outputs": [],
   "source": [
    "\n"
   ]
  },
  {
   "cell_type": "code",
   "execution_count": 104,
   "metadata": {},
   "outputs": [
    {
     "ename": "ValueError",
     "evalue": "Error when checking input: expected embedding_2_input to have shape (43,) but got array with shape (1707,)",
     "output_type": "error",
     "traceback": [
      "\u001b[1;31m---------------------------------------------------------------------------\u001b[0m",
      "\u001b[1;31mValueError\u001b[0m                                Traceback (most recent call last)",
      "\u001b[1;32m<ipython-input-104-8d1d58c91365>\u001b[0m in \u001b[0;36m<module>\u001b[1;34m\u001b[0m\n\u001b[1;32m----> 1\u001b[1;33m \u001b[0mprediction\u001b[0m \u001b[1;33m=\u001b[0m \u001b[0mmodel\u001b[0m\u001b[1;33m.\u001b[0m\u001b[0mpredict\u001b[0m\u001b[1;33m(\u001b[0m\u001b[0mnp\u001b[0m\u001b[1;33m.\u001b[0m\u001b[0marray\u001b[0m\u001b[1;33m(\u001b[0m\u001b[0mX1\u001b[0m\u001b[1;33m)\u001b[0m\u001b[1;33m)\u001b[0m\u001b[1;33m\u001b[0m\u001b[1;33m\u001b[0m\u001b[0m\n\u001b[0m",
      "\u001b[1;32mC:\\ProgramData\\Anaconda3\\lib\\site-packages\\keras\\engine\\training.py\u001b[0m in \u001b[0;36mpredict\u001b[1;34m(self, x, batch_size, verbose, steps)\u001b[0m\n\u001b[0;32m   1147\u001b[0m                              'argument.')\n\u001b[0;32m   1148\u001b[0m         \u001b[1;31m# Validate user data.\u001b[0m\u001b[1;33m\u001b[0m\u001b[1;33m\u001b[0m\u001b[1;33m\u001b[0m\u001b[0m\n\u001b[1;32m-> 1149\u001b[1;33m         \u001b[0mx\u001b[0m\u001b[1;33m,\u001b[0m \u001b[0m_\u001b[0m\u001b[1;33m,\u001b[0m \u001b[0m_\u001b[0m \u001b[1;33m=\u001b[0m \u001b[0mself\u001b[0m\u001b[1;33m.\u001b[0m\u001b[0m_standardize_user_data\u001b[0m\u001b[1;33m(\u001b[0m\u001b[0mx\u001b[0m\u001b[1;33m)\u001b[0m\u001b[1;33m\u001b[0m\u001b[1;33m\u001b[0m\u001b[0m\n\u001b[0m\u001b[0;32m   1150\u001b[0m         \u001b[1;32mif\u001b[0m \u001b[0mself\u001b[0m\u001b[1;33m.\u001b[0m\u001b[0mstateful\u001b[0m\u001b[1;33m:\u001b[0m\u001b[1;33m\u001b[0m\u001b[1;33m\u001b[0m\u001b[0m\n\u001b[0;32m   1151\u001b[0m             \u001b[1;32mif\u001b[0m \u001b[0mx\u001b[0m\u001b[1;33m[\u001b[0m\u001b[1;36m0\u001b[0m\u001b[1;33m]\u001b[0m\u001b[1;33m.\u001b[0m\u001b[0mshape\u001b[0m\u001b[1;33m[\u001b[0m\u001b[1;36m0\u001b[0m\u001b[1;33m]\u001b[0m \u001b[1;33m>\u001b[0m \u001b[0mbatch_size\u001b[0m \u001b[1;32mand\u001b[0m \u001b[0mx\u001b[0m\u001b[1;33m[\u001b[0m\u001b[1;36m0\u001b[0m\u001b[1;33m]\u001b[0m\u001b[1;33m.\u001b[0m\u001b[0mshape\u001b[0m\u001b[1;33m[\u001b[0m\u001b[1;36m0\u001b[0m\u001b[1;33m]\u001b[0m \u001b[1;33m%\u001b[0m \u001b[0mbatch_size\u001b[0m \u001b[1;33m!=\u001b[0m \u001b[1;36m0\u001b[0m\u001b[1;33m:\u001b[0m\u001b[1;33m\u001b[0m\u001b[1;33m\u001b[0m\u001b[0m\n",
      "\u001b[1;32mC:\\ProgramData\\Anaconda3\\lib\\site-packages\\keras\\engine\\training.py\u001b[0m in \u001b[0;36m_standardize_user_data\u001b[1;34m(self, x, y, sample_weight, class_weight, check_array_lengths, batch_size)\u001b[0m\n\u001b[0;32m    749\u001b[0m             \u001b[0mfeed_input_shapes\u001b[0m\u001b[1;33m,\u001b[0m\u001b[1;33m\u001b[0m\u001b[1;33m\u001b[0m\u001b[0m\n\u001b[0;32m    750\u001b[0m             \u001b[0mcheck_batch_axis\u001b[0m\u001b[1;33m=\u001b[0m\u001b[1;32mFalse\u001b[0m\u001b[1;33m,\u001b[0m  \u001b[1;31m# Don't enforce the batch size.\u001b[0m\u001b[1;33m\u001b[0m\u001b[1;33m\u001b[0m\u001b[0m\n\u001b[1;32m--> 751\u001b[1;33m             exception_prefix='input')\n\u001b[0m\u001b[0;32m    752\u001b[0m \u001b[1;33m\u001b[0m\u001b[0m\n\u001b[0;32m    753\u001b[0m         \u001b[1;32mif\u001b[0m \u001b[0my\u001b[0m \u001b[1;32mis\u001b[0m \u001b[1;32mnot\u001b[0m \u001b[1;32mNone\u001b[0m\u001b[1;33m:\u001b[0m\u001b[1;33m\u001b[0m\u001b[1;33m\u001b[0m\u001b[0m\n",
      "\u001b[1;32mC:\\ProgramData\\Anaconda3\\lib\\site-packages\\keras\\engine\\training_utils.py\u001b[0m in \u001b[0;36mstandardize_input_data\u001b[1;34m(data, names, shapes, check_batch_axis, exception_prefix)\u001b[0m\n\u001b[0;32m    136\u001b[0m                             \u001b[1;34m': expected '\u001b[0m \u001b[1;33m+\u001b[0m \u001b[0mnames\u001b[0m\u001b[1;33m[\u001b[0m\u001b[0mi\u001b[0m\u001b[1;33m]\u001b[0m \u001b[1;33m+\u001b[0m \u001b[1;34m' to have shape '\u001b[0m \u001b[1;33m+\u001b[0m\u001b[1;33m\u001b[0m\u001b[1;33m\u001b[0m\u001b[0m\n\u001b[0;32m    137\u001b[0m                             \u001b[0mstr\u001b[0m\u001b[1;33m(\u001b[0m\u001b[0mshape\u001b[0m\u001b[1;33m)\u001b[0m \u001b[1;33m+\u001b[0m \u001b[1;34m' but got array with shape '\u001b[0m \u001b[1;33m+\u001b[0m\u001b[1;33m\u001b[0m\u001b[1;33m\u001b[0m\u001b[0m\n\u001b[1;32m--> 138\u001b[1;33m                             str(data_shape))\n\u001b[0m\u001b[0;32m    139\u001b[0m     \u001b[1;32mreturn\u001b[0m \u001b[0mdata\u001b[0m\u001b[1;33m\u001b[0m\u001b[1;33m\u001b[0m\u001b[0m\n\u001b[0;32m    140\u001b[0m \u001b[1;33m\u001b[0m\u001b[0m\n",
      "\u001b[1;31mValueError\u001b[0m: Error when checking input: expected embedding_2_input to have shape (43,) but got array with shape (1707,)"
     ]
    }
   ],
   "source": [
    "prediction = model.predict(np.array(X1))"
   ]
  },
  {
   "cell_type": "code",
   "execution_count": null,
   "metadata": {},
   "outputs": [],
   "source": []
  }
 ],
 "metadata": {
  "kernelspec": {
   "display_name": "Python 3",
   "language": "python",
   "name": "python3"
  },
  "language_info": {
   "codemirror_mode": {
    "name": "ipython",
    "version": 3
   },
   "file_extension": ".py",
   "mimetype": "text/x-python",
   "name": "python",
   "nbconvert_exporter": "python",
   "pygments_lexer": "ipython3",
   "version": "3.7.3"
  }
 },
 "nbformat": 4,
 "nbformat_minor": 2
}
