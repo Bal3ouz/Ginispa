{
 "cells": [
  {
   "cell_type": "code",
   "execution_count": 1,
   "metadata": {},
   "outputs": [
    {
     "name": "stderr",
     "output_type": "stream",
     "text": [
      "C:\\ProgramData\\Anaconda3\\lib\\site-packages\\gensim\\utils.py:1197: UserWarning: detected Windows; aliasing chunkize to chunkize_serial\n",
      "  warnings.warn(\"detected Windows; aliasing chunkize to chunkize_serial\")\n"
     ]
    }
   ],
   "source": [
    "import pandas as pd\n",
    "import numpy as np\n",
    "from tqdm import tqdm\n",
    "tqdm.pandas(desc=\"progress-bar\")\n",
    "from gensim.models import Doc2Vec\n",
    "from sklearn import utils\n",
    "from sklearn.model_selection import train_test_split\n",
    "import gensim\n",
    "from sklearn.linear_model import LogisticRegression\n",
    "from gensim.models.doc2vec import TaggedDocument\n",
    "import re\n",
    "import seaborn as sns\n",
    "import matplotlib.pyplot as plt"
   ]
  },
  {
   "cell_type": "code",
   "execution_count": 12,
   "metadata": {},
   "outputs": [
    {
     "data": {
      "text/html": [
       "<div>\n",
       "<style scoped>\n",
       "    .dataframe tbody tr th:only-of-type {\n",
       "        vertical-align: middle;\n",
       "    }\n",
       "\n",
       "    .dataframe tbody tr th {\n",
       "        vertical-align: top;\n",
       "    }\n",
       "\n",
       "    .dataframe thead th {\n",
       "        text-align: right;\n",
       "    }\n",
       "</style>\n",
       "<table border=\"1\" class=\"dataframe\">\n",
       "  <thead>\n",
       "    <tr style=\"text-align: right;\">\n",
       "      <th></th>\n",
       "      <th>article</th>\n",
       "      <th>tag</th>\n",
       "    </tr>\n",
       "  </thead>\n",
       "  <tbody>\n",
       "    <tr>\n",
       "      <th>0</th>\n",
       "      <td>Vorschlag für eine Verordnung des Europäischen...</td>\n",
       "      <td>01. Bank- und Bankaufsichtsrecht</td>\n",
       "    </tr>\n",
       "    <tr>\n",
       "      <th>1</th>\n",
       "      <td>Vorschlag für eine Verordnung des Europäischen...</td>\n",
       "      <td>01. Bank- und Bankaufsichtsrecht</td>\n",
       "    </tr>\n",
       "    <tr>\n",
       "      <th>2</th>\n",
       "      <td>Vorschlag für eine Verordnung des Europäischen...</td>\n",
       "      <td>01. Bank- und Bankaufsichtsrecht</td>\n",
       "    </tr>\n",
       "    <tr>\n",
       "      <th>3</th>\n",
       "      <td>Vorschlag für eine Verordnung des Europäischen...</td>\n",
       "      <td>01. Bank- und Bankaufsichtsrecht</td>\n",
       "    </tr>\n",
       "    <tr>\n",
       "      <th>4</th>\n",
       "      <td>Vorschlag für eine Verordnung des Europäischen...</td>\n",
       "      <td>01. Bank- und Bankaufsichtsrecht</td>\n",
       "    </tr>\n",
       "    <tr>\n",
       "      <th>5</th>\n",
       "      <td>Vorschlag für eine Verordnung des Europäischen...</td>\n",
       "      <td>01. Bank- und Bankaufsichtsrecht</td>\n",
       "    </tr>\n",
       "    <tr>\n",
       "      <th>6</th>\n",
       "      <td>Vorschlag für eine Verordnung des Europäischen...</td>\n",
       "      <td>01. Bank- und Bankaufsichtsrecht</td>\n",
       "    </tr>\n",
       "    <tr>\n",
       "      <th>7</th>\n",
       "      <td>Vorschlag für eine Verordnung des Europäischen...</td>\n",
       "      <td>01. Bank- und Bankaufsichtsrecht</td>\n",
       "    </tr>\n",
       "    <tr>\n",
       "      <th>8</th>\n",
       "      <td>Vorschlag für eine Verordnung des Europäischen...</td>\n",
       "      <td>01. Bank- und Bankaufsichtsrecht</td>\n",
       "    </tr>\n",
       "    <tr>\n",
       "      <th>9</th>\n",
       "      <td>Vorschlag für eine Verordnung des Europäischen...</td>\n",
       "      <td>01. Bank- und Bankaufsichtsrecht</td>\n",
       "    </tr>\n",
       "  </tbody>\n",
       "</table>\n",
       "</div>"
      ],
      "text/plain": [
       "                                             article  \\\n",
       "0  Vorschlag für eine Verordnung des Europäischen...   \n",
       "1  Vorschlag für eine Verordnung des Europäischen...   \n",
       "2  Vorschlag für eine Verordnung des Europäischen...   \n",
       "3  Vorschlag für eine Verordnung des Europäischen...   \n",
       "4  Vorschlag für eine Verordnung des Europäischen...   \n",
       "5  Vorschlag für eine Verordnung des Europäischen...   \n",
       "6  Vorschlag für eine Verordnung des Europäischen...   \n",
       "7  Vorschlag für eine Verordnung des Europäischen...   \n",
       "8  Vorschlag für eine Verordnung des Europäischen...   \n",
       "9  Vorschlag für eine Verordnung des Europäischen...   \n",
       "\n",
       "                                tag  \n",
       "0  01. Bank- und Bankaufsichtsrecht  \n",
       "1  01. Bank- und Bankaufsichtsrecht  \n",
       "2  01. Bank- und Bankaufsichtsrecht  \n",
       "3  01. Bank- und Bankaufsichtsrecht  \n",
       "4  01. Bank- und Bankaufsichtsrecht  \n",
       "5  01. Bank- und Bankaufsichtsrecht  \n",
       "6  01. Bank- und Bankaufsichtsrecht  \n",
       "7  01. Bank- und Bankaufsichtsrecht  \n",
       "8  01. Bank- und Bankaufsichtsrecht  \n",
       "9  01. Bank- und Bankaufsichtsrecht  "
      ]
     },
     "execution_count": 12,
     "metadata": {},
     "output_type": "execute_result"
    }
   ],
   "source": [
    "df = pd.read_excel('Kopie-von-radarexport_june.xlsx')\n",
    "df.head()\n",
    "df = df[['Normenbezeichnung','Rubrik']]\n",
    "df = df[pd.notnull(df['Normenbezeichnung'])]\n",
    "df.rename(columns = {'Normenbezeichnung':'article','Rubrik':'tag'}, inplace = True)\n",
    "df.head(10)"
   ]
  },
  {
   "cell_type": "code",
   "execution_count": 13,
   "metadata": {},
   "outputs": [
    {
     "data": {
      "text/plain": [
       "(18448, 2)"
      ]
     },
     "execution_count": 13,
     "metadata": {},
     "output_type": "execute_result"
    }
   ],
   "source": [
    "\n",
    "df.shape"
   ]
  },
  {
   "cell_type": "code",
   "execution_count": 14,
   "metadata": {},
   "outputs": [],
   "source": [
    "df.index = range(18448)"
   ]
  },
  {
   "cell_type": "code",
   "execution_count": 15,
   "metadata": {},
   "outputs": [
    {
     "data": {
      "text/plain": [
       "528619"
      ]
     },
     "execution_count": 15,
     "metadata": {},
     "output_type": "execute_result"
    }
   ],
   "source": [
    "df['article'].apply(lambda x: len(x.split(' '))).sum()"
   ]
  },
  {
   "cell_type": "code",
   "execution_count": 17,
   "metadata": {},
   "outputs": [
    {
     "data": {
      "image/png": "[encoded data removed]",
      "text/plain": [
       "<Figure size 864x288 with 1 Axes>"
      ]
     },
     "metadata": {
      "needs_background": "light"
     },
     "output_type": "display_data"
    }
   ],
   "source": [
    "cnt_pro = df['tag'].value_counts()\n",
    "\n",
    "plt.figure(figsize=(12,4))\n",
    "sns.barplot(cnt_pro.index, cnt_pro.values, alpha=0.8)\n",
    "plt.ylabel('Number of Occurrences', fontsize=12)\n",
    "plt.xlabel('rubrique', fontsize=12)\n",
    "plt.xticks(rotation=90)\n",
    "plt.show();"
   ]
  },
  {
   "cell_type": "code",
   "execution_count": 19,
   "metadata": {},
   "outputs": [],
   "source": [
    "\n",
    "def print_complaint(index):\n",
    "    example = df[df.index == index][['article', 'tag']].values[0]\n",
    "    if len(example) > 0:\n",
    "        print(example[0])\n",
    "        print('tag:', example[1])"
   ]
  },
  {
   "cell_type": "code",
   "execution_count": 21,
   "metadata": {},
   "outputs": [
    {
     "name": "stdout",
     "output_type": "stream",
     "text": [
      "Vorschlag für eine Verordnung des Europäischen Parlaments und des Rates zur Änderung der Verordnung EU (Nr.) 575/2013 in Bezug auf die Verschuldungsquote, die strukturelle Liquiditätsquote, Anforderungen an Eigenmittel und berücksichtigungsfähige Verbindlichkeiten, das Gegenparteiausfallrisiko, das Marktrisiko, Risikopositionen gegenüber zentralen Gegenparteien, Risikopositionen gegenüber Organismen für gemeinsame Anlagen, Großkredite, Melde- und Offenlegungspflichten und zur Änderung der Verordnung (EU) Nr. 648/2012 (COM(2016) 850 final) (Datensatz 2 von 2, Teil 4 bis Teil 10 CRR (Artikel 387 - 520), Änderungen der EMIR und der Anhänge)\n",
      "tag: 01. Bank- und Bankaufsichtsrecht\n"
     ]
    }
   ],
   "source": [
    "print_complaint(0)\n"
   ]
  },
  {
   "cell_type": "code",
   "execution_count": 23,
   "metadata": {},
   "outputs": [],
   "source": [
    "from bs4 import BeautifulSoup\n",
    "def cleanText(text):\n",
    "    text = BeautifulSoup(text, \"lxml\").text\n",
    "    text = re.sub(r'\\|\\|\\|', r' ', text) \n",
    "    text = re.sub(r'http\\S+', r'<URL>', text)\n",
    "    text = text.lower()\n",
    "    text = text.replace('x', '')\n",
    "    return text\n",
    "df['article'] = df['article'].apply(cleanText)"
   ]
  },
  {
   "cell_type": "code",
   "execution_count": 25,
   "metadata": {},
   "outputs": [
    {
     "data": {
      "text/plain": [
       "'vorschlag für eine verordnung des europäischen parlaments und des rates zur änderung der verordnung eu (nr.) 575/2013 in bezug auf die verschuldungsquote, die strukturelle liquiditätsquote, anforderungen an eigenmittel und berücksichtigungsfähige verbindlichkeiten, das gegenparteiausfallrisiko, das marktrisiko, risikopositionen gegenüber zentralen gegenparteien, risikopositionen gegenüber organismen für gemeinsame anlagen, großkredite, die melde- und offenlegungspflichten und zur änderung der verordnung (eu) nr. 648/2012  (com(2016) 850 final) (datensatz 1 von 2, teil 1 bis teil 3 crr (art. 1 - 386 crr))'"
      ]
     },
     "execution_count": 25,
     "metadata": {},
     "output_type": "execute_result"
    }
   ],
   "source": [
    "df['article'][20]"
   ]
  },
  {
   "cell_type": "code",
   "execution_count": 65,
   "metadata": {},
   "outputs": [],
   "source": [
    "train, test = train_test_split(df, test_size=0.2, train_size=0.8, random_state=42)"
   ]
  },
  {
   "cell_type": "code",
   "execution_count": 66,
   "metadata": {},
   "outputs": [],
   "source": [
    "import nltk\n",
    "from nltk.corpus import stopwords\n",
    "def tokenize_text(text):\n",
    "    tokens = []\n",
    "    for sent in nltk.sent_tokenize(text):\n",
    "        for word in nltk.word_tokenize(sent):\n",
    "            if len(word) < 2:\n",
    "                continue\n",
    "            tokens.append(word.lower())\n",
    "    return tokens"
   ]
  },
  {
   "cell_type": "code",
   "execution_count": 67,
   "metadata": {},
   "outputs": [],
   "source": [
    "train_tagged = train.apply(\n",
    "    lambda r: TaggedDocument(words=tokenize_text(r['article']), tags=[r.tag]), axis=1)\n",
    "test_tagged = test.apply(\n",
    "    lambda r: TaggedDocument(words=tokenize_text(r['article']), tags=[r.tag]), axis=1)"
   ]
  },
  {
   "cell_type": "code",
   "execution_count": 68,
   "metadata": {},
   "outputs": [
    {
     "data": {
      "text/plain": [
       "TaggedDocument(words=['oenb', 'gemeinsames', 'meldewesen', 'datenmodell', 'version', '4.4', 'stand', '18.01.2019'], tags=['01. Bank- und Bankaufsichtsrecht'])"
      ]
     },
     "execution_count": 68,
     "metadata": {},
     "output_type": "execute_result"
    }
   ],
   "source": [
    "train_tagged.values[30]"
   ]
  },
  {
   "cell_type": "raw",
   "metadata": {},
   "source": [
    "Training the model\n",
    "We'll instantiate a Doc2Vec model-Distributed Bag of Words (DBOW). In the Word2Vec architecture, the two algorithm names are “continuous bag of words” (cbow) and “skip-gram” (sg); in the Doc2Vec architecture, the corresponding algorithms are “distributed bag of words” (dbow) and “distributed memory” (dm).\n",
    "\n",
    "DBOW\n",
    "DBOW is the Doc2Vec model analogous to Skip-gram model in Word2Vec. The paragraph vectors are obtained by training a neural network on the task of predicting a probability distribution of words in a paragraph given a randomly-sampled word from the paragraph.\n",
    "\n",
    "Training a Doc2Vec model is rather straight forward in Gensim, we initialize the model and train for 30 epochs:\n",
    "\n",
    "We set the minimum word count to 2 in order to discard words with very few occurrences."
   ]
  },
  {
   "cell_type": "code",
   "execution_count": 69,
   "metadata": {},
   "outputs": [
    {
     "name": "stderr",
     "output_type": "stream",
     "text": [
      "100%|████████████████████████████████████████████████████████████████████████| 14758/14758 [00:00<00:00, 924784.69it/s]\n"
     ]
    }
   ],
   "source": [
    "#Doc2Vec DBOW EXAMPLE \n",
    "\n",
    "import multiprocessing\n",
    "cores = multiprocessing.cpu_count()\n",
    "\n",
    "#building vocabulary \n",
    "model_dbow = Doc2Vec(dm=0, vector_size=300, negative=5, hs=0, min_count=2, sample = 0, workers=cores)\n",
    "model_dbow.build_vocab([x for x in tqdm(train_tagged.values)])"
   ]
  },
  {
   "cell_type": "code",
   "execution_count": 70,
   "metadata": {},
   "outputs": [
    {
     "name": "stderr",
     "output_type": "stream",
     "text": [
      "100%|████████████████████████████████████████████████████████████████████████| 14758/14758 [00:00<00:00, 924991.98it/s]\n",
      "100%|███████████████████████████████████████████████████████████████████████| 14758/14758 [00:00<00:00, 1233672.91it/s]\n",
      "100%|███████████████████████████████████████████████████████████████████████| 14758/14758 [00:00<00:00, 1345320.43it/s]\n",
      "100%|███████████████████████████████████████████████████████████████████████| 14758/14758 [00:00<00:00, 1479858.91it/s]\n",
      "100%|███████████████████████████████████████████████████████████████████████| 14758/14758 [00:00<00:00, 2958586.10it/s]\n",
      "100%|███████████████████████████████████████████████████████████████████████| 14758/14758 [00:00<00:00, 2113405.66it/s]\n",
      "100%|███████████████████████████████████████████████████████████████████████| 14758/14758 [00:00<00:00, 2466903.33it/s]\n",
      "100%|███████████████████████████████████████████████████████████████████████| 14758/14758 [00:00<00:00, 1233255.07it/s]\n",
      "100%|███████████████████████████████████████████████████████████████████████| 14758/14758 [00:00<00:00, 1233181.36it/s]\n",
      "100%|███████████████████████████████████████████████████████████████████████| 14758/14758 [00:00<00:00, 1233083.10it/s]\n",
      "100%|███████████████████████████████████████████████████████████████████████| 14758/14758 [00:00<00:00, 2467296.65it/s]\n",
      "100%|███████████████████████████████████████████████████████████████████████| 14758/14758 [00:00<00:00, 1643947.05it/s]\n",
      "100%|███████████████████████████████████████████████████████████████████████| 14758/14758 [00:00<00:00, 2960567.17it/s]\n",
      "100%|███████████████████████████████████████████████████████████████████████| 14758/14758 [00:00<00:00, 2467296.65it/s]\n",
      "100%|███████████████████████████████████████████████████████████████████████| 14758/14758 [00:00<00:00, 2466313.59it/s]\n",
      "100%|███████████████████████████████████████████████████████████████████████| 14758/14758 [00:00<00:00, 2960425.58it/s]\n",
      "100%|███████████████████████████████████████████████████████████████████████| 14758/14758 [00:00<00:00, 2959151.85it/s]\n",
      "100%|███████████████████████████████████████████████████████████████████████| 14758/14758 [00:00<00:00, 2959859.34it/s]\n",
      "100%|███████████████████████████████████████████████████████████████████████| 14758/14758 [00:00<00:00, 2467099.98it/s]\n",
      "100%|███████████████████████████████████████████████████████████████████████| 14758/14758 [00:00<00:00, 2958868.95it/s]\n",
      "100%|███████████████████████████████████████████████████████████████████████| 14758/14758 [00:00<00:00, 2466805.02it/s]\n",
      "100%|███████████████████████████████████████████████████████████████████████| 14758/14758 [00:00<00:00, 1480000.44it/s]\n",
      "100%|███████████████████████████████████████████████████████████████████████| 14758/14758 [00:00<00:00, 1056973.49it/s]\n",
      "100%|███████████████████████████████████████████████████████████████████████| 14758/14758 [00:00<00:00, 1138319.51it/s]\n",
      "100%|███████████████████████████████████████████████████████████████████████| 14758/14758 [00:00<00:00, 2114055.27it/s]\n",
      "100%|███████████████████████████████████████████████████████████████████████| 14758/14758 [00:00<00:00, 2959859.34it/s]\n",
      "100%|███████████████████████████████████████████████████████████████████████| 14758/14758 [00:00<00:00, 1849956.32it/s]\n",
      "100%|███████████████████████████████████████████████████████████████████████| 14758/14758 [00:00<00:00, 1479929.67it/s]\n",
      "100%|███████████████████████████████████████████████████████████████████████| 14758/14758 [00:00<00:00, 2959859.34it/s]\n",
      "100%|███████████████████████████████████████████████████████████████████████| 14758/14758 [00:00<00:00, 2467001.65it/s]\n"
     ]
    },
    {
     "name": "stdout",
     "output_type": "stream",
     "text": [
      "Wall time: 21 s\n"
     ]
    }
   ],
   "source": [
    "%%time\n",
    "for epoch in range(30):\n",
    "    model_dbow.train(utils.shuffle([x for x in tqdm(train_tagged.values)]), total_examples=len(train_tagged.values), epochs=1)\n",
    "    model_dbow.alpha -= 0.002\n",
    "    model_dbow.min_alpha = model_dbow.alpha"
   ]
  },
  {
   "cell_type": "markdown",
   "metadata": {},
   "source": [
    "Buliding the final vector feature for the classifier."
   ]
  },
  {
   "cell_type": "code",
   "execution_count": 71,
   "metadata": {},
   "outputs": [],
   "source": [
    "def vec_for_learning(model, tagged_docs):\n",
    "    sents = tagged_docs.values\n",
    "    targets, regressors = zip(*[(doc.tags[0], model.infer_vector(doc.words, steps=20)) for doc in sents])\n",
    "    return targets, regressors"
   ]
  },
  {
   "cell_type": "code",
   "execution_count": 72,
   "metadata": {},
   "outputs": [],
   "source": [
    "y_train, X_train = vec_for_learning(model_dbow, train_tagged)\n",
    "y_test, X_test = vec_for_learning(model_dbow, test_tagged)"
   ]
  },
  {
   "cell_type": "code",
   "execution_count": 74,
   "metadata": {},
   "outputs": [
    {
     "name": "stderr",
     "output_type": "stream",
     "text": [
      "C:\\ProgramData\\Anaconda3\\lib\\site-packages\\sklearn\\linear_model\\logistic.py:433: FutureWarning: Default solver will be changed to 'lbfgs' in 0.22. Specify a solver to silence this warning.\n",
      "  FutureWarning)\n",
      "C:\\ProgramData\\Anaconda3\\lib\\site-packages\\sklearn\\linear_model\\logistic.py:460: FutureWarning: Default multi_class will be changed to 'auto' in 0.22. Specify the multi_class option to silence this warning.\n",
      "  \"this warning.\", FutureWarning)\n"
     ]
    }
   ],
   "source": [
    "logreg = LogisticRegression(n_jobs=1, C=1e5)\n",
    "logreg.fit(X_train, y_train)\n",
    "y_pred = logreg.predict(X_test)"
   ]
  },
  {
   "cell_type": "code",
   "execution_count": 75,
   "metadata": {},
   "outputs": [
    {
     "name": "stdout",
     "output_type": "stream",
     "text": [
      "Testing accuracy 0.9598915989159892\n",
      "Testing F1 score: 0.9598182781458813\n"
     ]
    }
   ],
   "source": [
    "from sklearn.metrics import accuracy_score, f1_score\n",
    "\n",
    "print('Testing accuracy %s' % accuracy_score(y_test, y_pred))\n",
    "print('Testing F1 score: {}'.format(f1_score(y_test, y_pred, average='weighted')))"
   ]
  },
  {
   "cell_type": "markdown",
   "metadata": {},
   "source": [
    "# Distributed Memory with Averaging\n",
    "Distributed Memory (DM) acts as a memory that remembers what is missing from the current context — or as the topic of the paragraph. While the word vectors represent the concept of a word, the document vector intends to represent the concept of a document. We again instantiate a Doc2Vec model with a vector size with 300 words and iterating over the training corpus 30 times."
   ]
  },
  {
   "cell_type": "code",
   "execution_count": 36,
   "metadata": {},
   "outputs": [
    {
     "name": "stderr",
     "output_type": "stream",
     "text": [
      "100%|███████████████████████████████████████████████████████████████████████| 12913/12913 [00:00<00:00, 1078991.31it/s]\n"
     ]
    }
   ],
   "source": [
    "model_dmm = Doc2Vec(dm=1, dm_mean=1, vector_size=300, window=10, negative=5, min_count=1, workers=5, alpha=0.065, min_alpha=0.065)\n",
    "model_dmm.build_vocab([x for x in tqdm(train_tagged.values)])"
   ]
  },
  {
   "cell_type": "code",
   "execution_count": 37,
   "metadata": {},
   "outputs": [
    {
     "name": "stderr",
     "output_type": "stream",
     "text": [
      "100%|███████████████████████████████████████████████████████████████████████| 12913/12913 [00:00<00:00, 1294789.57it/s]\n",
      "100%|███████████████████████████████████████████████████████████████████████| 12913/12913 [00:00<00:00, 2589207.74it/s]\n",
      "100%|███████████████████████████████████████████████████████████████████████| 12913/12913 [00:00<00:00, 1078926.82it/s]\n",
      "100%|███████████████████████████████████████████████████████████████████████| 12913/12913 [00:00<00:00, 1618535.32it/s]\n",
      "100%|███████████████████████████████████████████████████████████████████████| 12913/12913 [00:00<00:00, 1078862.35it/s]\n",
      "100%|███████████████████████████████████████████████████████████████████████| 12913/12913 [00:00<00:00, 1177055.84it/s]\n",
      "100%|███████████████████████████████████████████████████████████████████████| 12913/12913 [00:00<00:00, 1177107.01it/s]\n",
      "100%|███████████████████████████████████████████████████████████████████████| 12913/12913 [00:00<00:00, 2590074.48it/s]\n",
      "100%|███████████████████████████████████████████████████████████████████████| 12913/12913 [00:00<00:00, 2589455.32it/s]\n",
      "100%|███████████████████████████████████████████████████████████████████████| 12913/12913 [00:00<00:00, 1439113.79it/s]\n",
      "100%|███████████████████████████████████████████████████████████████████████| 12913/12913 [00:00<00:00, 3237167.39it/s]\n",
      "100%|███████████████████████████████████████████████████████████████████████| 12913/12913 [00:00<00:00, 2590074.48it/s]\n",
      "100%|███████████████████████████████████████████████████████████████████████| 12913/12913 [00:00<00:00, 1849825.73it/s]\n",
      "100%|███████████████████████████████████████████████████████████████████████| 12913/12913 [00:00<00:00, 2589579.13it/s]\n",
      "100%|███████████████████████████████████████████████████████████████████████| 12913/12913 [00:00<00:00, 2589950.63it/s]\n",
      "100%|███████████████████████████████████████████████████████████████████████| 12913/12913 [00:00<00:00, 2157810.66it/s]\n",
      "100%|███████████████████████████████████████████████████████████████████████| 12913/12913 [00:00<00:00, 1618680.44it/s]\n",
      "100%|███████████████████████████████████████████████████████████████████████| 12913/12913 [00:00<00:00, 1618583.69it/s]\n",
      "100%|███████████████████████████████████████████████████████████████████████| 12913/12913 [00:00<00:00, 2158412.61it/s]\n",
      "100%|███████████████████████████████████████████████████████████████████████| 12913/12913 [00:00<00:00, 2589702.95it/s]\n",
      "100%|███████████████████████████████████████████████████████████████████████| 12913/12913 [00:00<00:00, 1438846.17it/s]\n",
      "100%|███████████████████████████████████████████████████████████████████████| 12913/12913 [00:00<00:00, 2588836.46it/s]\n",
      "100%|███████████████████████████████████████████████████████████████████████| 12913/12913 [00:00<00:00, 1078969.81it/s]\n",
      "100%|███████████████████████████████████████████████████████████████████████| 12913/12913 [00:00<00:00, 2589950.63it/s]\n",
      "100%|████████████████████████████████████████████████████████████████████████| 12913/12913 [00:00<00:00, 995918.72it/s]\n",
      "100%|███████████████████████████████████████████████████████████████████████| 12913/12913 [00:00<00:00, 1618438.59it/s]\n",
      "100%|███████████████████████████████████████████████████████████████████████| 12913/12913 [00:00<00:00, 2589702.95it/s]\n",
      "100%|███████████████████████████████████████████████████████████████████████| 12913/12913 [00:00<00:00, 1438616.86it/s]\n",
      "100%|███████████████████████████████████████████████████████████████████████| 12913/12913 [00:00<00:00, 1849762.55it/s]\n",
      "100%|███████████████████████████████████████████████████████████████████████| 12913/12913 [00:00<00:00, 3236973.92it/s]\n"
     ]
    },
    {
     "name": "stdout",
     "output_type": "stream",
     "text": [
      "Wall time: 35.2 s\n"
     ]
    }
   ],
   "source": [
    "%%time\n",
    "for epoch in range(30):\n",
    "    model_dmm.train(utils.shuffle([x for x in tqdm(train_tagged.values)]), total_examples=len(train_tagged.values), epochs=1)\n",
    "    model_dmm.alpha -= 0.002\n",
    "    model_dmm.min_alpha = model_dmm.alpha"
   ]
  },
  {
   "cell_type": "markdown",
   "metadata": {},
   "source": [
    "# Train Logistic Regression\n"
   ]
  },
  {
   "cell_type": "code",
   "execution_count": 38,
   "metadata": {},
   "outputs": [
    {
     "name": "stderr",
     "output_type": "stream",
     "text": [
      "C:\\ProgramData\\Anaconda3\\lib\\site-packages\\sklearn\\linear_model\\logistic.py:433: FutureWarning: Default solver will be changed to 'lbfgs' in 0.22. Specify a solver to silence this warning.\n",
      "  FutureWarning)\n",
      "C:\\ProgramData\\Anaconda3\\lib\\site-packages\\sklearn\\linear_model\\logistic.py:460: FutureWarning: Default multi_class will be changed to 'auto' in 0.22. Specify the multi_class option to silence this warning.\n",
      "  \"this warning.\", FutureWarning)\n"
     ]
    },
    {
     "name": "stdout",
     "output_type": "stream",
     "text": [
      "Testing accuracy 0.46124661246612464\n",
      "Testing F1 score: 0.4439872996919701\n"
     ]
    }
   ],
   "source": [
    "y_train, X_train = vec_for_learning(model_dmm, train_tagged)\n",
    "y_test, X_test = vec_for_learning(model_dmm, test_tagged)\n",
    "\n",
    "logreg.fit(X_train, y_train)\n",
    "y_pred = logreg.predict(X_test)\n",
    "\n",
    "print('Testing accuracy %s' % accuracy_score(y_test, y_pred))\n",
    "print('Testing F1 score: {}'.format(f1_score(y_test, y_pred, average='weighted')))"
   ]
  },
  {
   "cell_type": "markdown",
   "metadata": {},
   "source": [
    "# First, we delete temporary training data to free up RAM."
   ]
  },
  {
   "cell_type": "code",
   "execution_count": 44,
   "metadata": {},
   "outputs": [],
   "source": [
    "model_dbow.delete_temporary_training_data(keep_doctags_vectors=True, keep_inference=True)\n",
    "model_dmm.delete_temporary_training_data(keep_doctags_vectors=True, keep_inference=True)"
   ]
  },
  {
   "cell_type": "markdown",
   "metadata": {},
   "source": [
    "# Concat two models "
   ]
  },
  {
   "cell_type": "code",
   "execution_count": 51,
   "metadata": {},
   "outputs": [],
   "source": [
    "from gensim.test.test_doc2vec import ConcatenatedDoc2Vec\n",
    "new_model = ConcatenatedDoc2Vec([model_dbow, model_dmm])"
   ]
  },
  {
   "cell_type": "code",
   "execution_count": 52,
   "metadata": {},
   "outputs": [],
   "source": [
    "def get_vectors(model, tagged_docs):\n",
    "    sents = tagged_docs.values\n",
    "    targets, regressors = zip(*[(doc.tags[0], model.infer_vector(doc.words, steps=20)) for doc in sents])\n",
    "    return targets, regressors"
   ]
  },
  {
   "cell_type": "code",
   "execution_count": 53,
   "metadata": {},
   "outputs": [],
   "source": [
    "\n",
    "y_train, X_train = get_vectors(new_model, train_tagged)\n",
    "y_test, X_test = get_vectors(new_model, test_tagged)"
   ]
  },
  {
   "cell_type": "code",
   "execution_count": 54,
   "metadata": {},
   "outputs": [
    {
     "name": "stderr",
     "output_type": "stream",
     "text": [
      "C:\\ProgramData\\Anaconda3\\lib\\site-packages\\sklearn\\linear_model\\logistic.py:433: FutureWarning: Default solver will be changed to 'lbfgs' in 0.22. Specify a solver to silence this warning.\n",
      "  FutureWarning)\n",
      "C:\\ProgramData\\Anaconda3\\lib\\site-packages\\sklearn\\linear_model\\logistic.py:460: FutureWarning: Default multi_class will be changed to 'auto' in 0.22. Specify the multi_class option to silence this warning.\n",
      "  \"this warning.\", FutureWarning)\n"
     ]
    },
    {
     "name": "stdout",
     "output_type": "stream",
     "text": [
      "Testing accuracy 0.9214092140921409\n",
      "Testing F1 score: 0.9214535165183574\n"
     ]
    }
   ],
   "source": [
    "logreg.fit(X_train, y_train)\n",
    "y_pred = logreg.predict(X_test)\n",
    "\n",
    "print('Testing accuracy %s' % accuracy_score(y_test, y_pred))\n",
    "print('Testing F1 score: {}'.format(f1_score(y_test, y_pred, average='weighted')))"
   ]
  },
  {
   "cell_type": "code",
   "execution_count": null,
   "metadata": {},
   "outputs": [],
   "source": []
  }
 ],
 "metadata": {
  "celltoolbar": "Éditer les Méta-Données",
  "kernelspec": {
   "display_name": "Python 3",
   "language": "python",
   "name": "python3"
  },
  "language_info": {
   "codemirror_mode": {
    "name": "ipython",
    "version": 3
   },
   "file_extension": ".py",
   "mimetype": "text/x-python",
   "name": "python",
   "nbconvert_exporter": "python",
   "pygments_lexer": "ipython3",
   "version": "3.7.3"
  }
 },
 "nbformat": 4,
 "nbformat_minor": 2
}
