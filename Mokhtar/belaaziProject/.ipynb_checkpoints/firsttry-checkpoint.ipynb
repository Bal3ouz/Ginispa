{
 "cells": [
  {
   "cell_type": "code",
   "execution_count": 349,
   "metadata": {},
   "outputs": [],
   "source": [
    "import numpy as np\n",
    "from sklearn.metrics import accuracy_score\n",
    "from sklearn.pipeline import Pipeline\n",
    "import pandas as pd\n",
    "import sklearn\n",
    "from sklearn.model_selection import train_test_split\n",
    "from sklearn.feature_extraction import DictVectorizer\n",
    "from sklearn.preprocessing import OneHotEncoder\n",
    "from sklearn.compose import ColumnTransformer\n",
    "from sklearn.impute import SimpleImputer\n"
   ]
  },
  {
   "cell_type": "markdown",
   "metadata": {},
   "source": [
    "from pandas.api.types import is_numeric_dtype\n",
    "from datetime import date, datetime\n",
    "import calendar\n",
    "def make_date(df:DataFrame, date_field:str):\n",
    "    \"Make sure `df[field_name]` is of the right date type.\"\n",
    "    field_dtype = df[date_field].dtype\n",
    "    if isinstance(field_dtype, pd.core.dtypes.dtypes.DatetimeTZDtype):\n",
    "        field_dtype = np.datetime64\n",
    "    if not np.issubdtype(field_dtype, np.datetime64):\n",
    "        df[date_field] = pd.to_datetime(df[date_field], infer_datetime_format=True)\n",
    "def add_datepart(df:DataFrame, field_name:str, prefix:str=None, drop:bool=True, time:bool=False):\n",
    "    \"Helper function that adds columns relevant to a date in the column `field_name` of `df`.\"\n",
    "    make_date(df, field_name)\n",
    "    field = df[field_name]\n",
    "    prefix = ifnone(prefix, re.sub('[Dd]ate$', '', field_name))\n",
    "    attr = ['Year', 'Month', 'Week', 'Day', 'Dayofweek', 'Dayofyear', 'Is_month_end', 'Is_month_start', \n",
    "            'Is_quarter_end', 'Is_quarter_start', 'Is_year_end', 'Is_year_start']\n",
    "    if time: attr = attr + ['Hour', 'Minute', 'Second']\n",
    "    for n in attr: df[prefix + n] = getattr(field.dt, n.lower())\n",
    "    df[prefix + 'Elapsed'] = field.astype(np.int64) // 10 ** 9\n",
    "    if drop: df.drop(field_name, axis=1, inplace=True)\n",
    "    return df"
   ]
  },
  {
   "cell_type": "code",
   "execution_count": 350,
   "metadata": {},
   "outputs": [],
   "source": [
    "import re\n",
    "def add_datepart(df, fldname, drop=True, time=False, errors=\"raise\"):\t\n",
    "    \"\"\"add_datepart converts a column of df from a datetime64 to many columns containing\n",
    "    the information from the date. This applies changes inplace.\n",
    "      \n",
    "    \"\"\"\n",
    "    fld = df[fldname]\n",
    "    fld_dtype = fld.dtype\n",
    "    if isinstance(fld_dtype, pd.core.dtypes.dtypes.DatetimeTZDtype):\n",
    "        fld_dtype = np.datetime64\n",
    "\n",
    "    if not np.issubdtype(fld_dtype, np.datetime64):\n",
    "        df[fldname] = fld = pd.to_datetime(fld, infer_datetime_format=True, errors=errors)\n",
    "    targ_pre = re.sub('[Dd]ate$', '', fldname)\n",
    "    attr = ['Year', 'Month', 'Week', 'Day', 'Dayofweek', 'Dayofyear',\n",
    "            'Is_month_end', 'Is_month_start', 'Is_quarter_end', 'Is_quarter_start', 'Is_year_end', 'Is_year_start']\n",
    "    if time: attr = attr + ['Hour', 'Minute', 'Second']\n",
    "    for n in attr: df[targ_pre + n] = getattr(fld.dt, n.lower())\n",
    "    df[targ_pre + 'Elapsed'] = fld.astype(np.int64) // 10 ** 9\n",
    "    if drop: df.drop(fldname, axis=1, inplace=True)"
   ]
  },
  {
   "cell_type": "code",
   "execution_count": 351,
   "metadata": {},
   "outputs": [],
   "source": [
    "date_col=[\"CLIENT_REGISTER_DATE\",\"CLIENT_FIRST_DEPOSIT\",\"CLIENT_LAST_DEPOSIT\"\n",
    "          ,\"CLIENT_FIRST_ORDER_CLOSED\",\"CLIENT_LAST_ORDER_CLOSED\"]\n",
    "\n",
    "X_full = pd.read_csv('ORDER_PREPARATION_01.csv',delimiter=\";\",index_col=\"CLIENT_ID\"\n",
    "                     ,parse_dates=date_col)\n",
    "XX = pd.read_csv('ORDER_PREPARATION_01.csv',delimiter=\";\",index_col=\"CLIENT_ID\"\n",
    "                     ,parse_dates=date_col)\n",
    "\n"
   ]
  },
  {
   "cell_type": "code",
   "execution_count": 352,
   "metadata": {},
   "outputs": [],
   "source": [
    "for col in date_col:\n",
    "    add_datepart(XX,col)\n",
    "    add_datepart(X_full,col)"
   ]
  },
  {
   "cell_type": "markdown",
   "metadata": {},
   "source": [
    "[col for col in X_full.columns if ((col in X_full.columns) and not (col in X_train.columns))]"
   ]
  },
  {
   "cell_type": "code",
   "execution_count": 353,
   "metadata": {},
   "outputs": [],
   "source": [
    "cols_with_missing = [col for col in X_full.columns\n",
    "                     if X_full[col].isnull().any()]\n",
    "X_full=X_full.drop(cols_with_missing,axis=1)\n",
    "#X_full=X_full.drop(date_col,axis=1)\n",
    "\n",
    "y_full=X_full[[\"ACTIVE_2018\"]]\n",
    "X_full=X_full.drop([\"ACTIVE_2018\"],axis=1)\n",
    "cat_col=[col for col in X_full.columns if(X_full[col].dtypes==object)]"
   ]
  },
  {
   "cell_type": "code",
   "execution_count": 354,
   "metadata": {},
   "outputs": [
    {
     "data": {
      "text/html": [
       "<div>\n",
       "<style scoped>\n",
       "    .dataframe tbody tr th:only-of-type {\n",
       "        vertical-align: middle;\n",
       "    }\n",
       "\n",
       "    .dataframe tbody tr th {\n",
       "        vertical-align: top;\n",
       "    }\n",
       "\n",
       "    .dataframe thead th {\n",
       "        text-align: right;\n",
       "    }\n",
       "</style>\n",
       "<table border=\"1\" class=\"dataframe\">\n",
       "  <thead>\n",
       "    <tr style=\"text-align: right;\">\n",
       "      <th></th>\n",
       "      <th>ACTIVE_2018</th>\n",
       "    </tr>\n",
       "  </thead>\n",
       "  <tbody>\n",
       "    <tr>\n",
       "      <th>YEARS_SINCE_REGISTRATION</th>\n",
       "      <td>0.045832</td>\n",
       "    </tr>\n",
       "    <tr>\n",
       "      <th>YEARS_SINCE_FIRST_DEPOSIT</th>\n",
       "      <td>-0.002810</td>\n",
       "    </tr>\n",
       "    <tr>\n",
       "      <th>YEARS_SINCE_FIRST_ORDER_CLOSED</th>\n",
       "      <td>0.094437</td>\n",
       "    </tr>\n",
       "    <tr>\n",
       "      <th>COUNT_ORDER</th>\n",
       "      <td>0.107188</td>\n",
       "    </tr>\n",
       "    <tr>\n",
       "      <th>COUNT_ORDER_CLASS_OPEN</th>\n",
       "      <td>0.118334</td>\n",
       "    </tr>\n",
       "    <tr>\n",
       "      <th>AVG_ORDER_CLASS_OPEN</th>\n",
       "      <td>-0.077980</td>\n",
       "    </tr>\n",
       "    <tr>\n",
       "      <th>COUNT_ORDER_CLASS_TEAM</th>\n",
       "      <td>0.035719</td>\n",
       "    </tr>\n",
       "    <tr>\n",
       "      <th>AVG_ORDER_CLASS_TEAM</th>\n",
       "      <td>0.040739</td>\n",
       "    </tr>\n",
       "    <tr>\n",
       "      <th>COUNT_ORDER_CLASS_DIRECT</th>\n",
       "      <td>0.065545</td>\n",
       "    </tr>\n",
       "    <tr>\n",
       "      <th>AVG_ORDER_CLASS_DIRECT</th>\n",
       "      <td>0.064825</td>\n",
       "    </tr>\n",
       "    <tr>\n",
       "      <th>COUNT_AUTHOR</th>\n",
       "      <td>0.223225</td>\n",
       "    </tr>\n",
       "    <tr>\n",
       "      <th>AVG_AUTHOR</th>\n",
       "      <td>-0.242854</td>\n",
       "    </tr>\n",
       "    <tr>\n",
       "      <th>COUNT_REVISION_REQUEST</th>\n",
       "      <td>0.092627</td>\n",
       "    </tr>\n",
       "    <tr>\n",
       "      <th>AVG_REVISION_REQUEST</th>\n",
       "      <td>-0.073658</td>\n",
       "    </tr>\n",
       "    <tr>\n",
       "      <th>SUM_WRITTEN_WORDS</th>\n",
       "      <td>0.145750</td>\n",
       "    </tr>\n",
       "    <tr>\n",
       "      <th>AVG_WRITTEN_WORDS</th>\n",
       "      <td>-0.022227</td>\n",
       "    </tr>\n",
       "    <tr>\n",
       "      <th>SUM_GAIN_AUTHOR</th>\n",
       "      <td>0.011709</td>\n",
       "    </tr>\n",
       "    <tr>\n",
       "      <th>AVG_GAIN_AUTHOR</th>\n",
       "      <td>-0.011446</td>\n",
       "    </tr>\n",
       "    <tr>\n",
       "      <th>SUM_REVENUE</th>\n",
       "      <td>0.010599</td>\n",
       "    </tr>\n",
       "    <tr>\n",
       "      <th>AVG_REVENUE</th>\n",
       "      <td>0.010268</td>\n",
       "    </tr>\n",
       "    <tr>\n",
       "      <th>SUM_DAYS_TO_WRITE_ORDER</th>\n",
       "      <td>0.044429</td>\n",
       "    </tr>\n",
       "    <tr>\n",
       "      <th>AVG_DAYS_TO_WRITE_ORDER</th>\n",
       "      <td>-0.058737</td>\n",
       "    </tr>\n",
       "    <tr>\n",
       "      <th>SUM_DAYS_ORDER_PENDING</th>\n",
       "      <td>-0.010656</td>\n",
       "    </tr>\n",
       "    <tr>\n",
       "      <th>AVG_DAYS_ORDER_PENDING</th>\n",
       "      <td>-0.020518</td>\n",
       "    </tr>\n",
       "    <tr>\n",
       "      <th>SUM_COUNT_PICKED_BY_AUTHOR</th>\n",
       "      <td>0.122012</td>\n",
       "    </tr>\n",
       "    <tr>\n",
       "      <th>AVG_COUNT_PICKED_BY_AUTHOR</th>\n",
       "      <td>-0.061471</td>\n",
       "    </tr>\n",
       "    <tr>\n",
       "      <th>SUM_YEARS_AUTHOR_REG</th>\n",
       "      <td>0.102908</td>\n",
       "    </tr>\n",
       "    <tr>\n",
       "      <th>AVG_YEARS_AUTHOR_REG</th>\n",
       "      <td>-0.044824</td>\n",
       "    </tr>\n",
       "    <tr>\n",
       "      <th>ACTIVE_2018</th>\n",
       "      <td>1.000000</td>\n",
       "    </tr>\n",
       "    <tr>\n",
       "      <th>REVENUE_2018</th>\n",
       "      <td>0.062564</td>\n",
       "    </tr>\n",
       "    <tr>\n",
       "      <th>...</th>\n",
       "      <td>...</td>\n",
       "    </tr>\n",
       "    <tr>\n",
       "      <th>CLIENT_LAST_DEPOSITIs_quarter_start</th>\n",
       "      <td>-0.005028</td>\n",
       "    </tr>\n",
       "    <tr>\n",
       "      <th>CLIENT_LAST_DEPOSITIs_year_end</th>\n",
       "      <td>0.029715</td>\n",
       "    </tr>\n",
       "    <tr>\n",
       "      <th>CLIENT_LAST_DEPOSITIs_year_start</th>\n",
       "      <td>-0.023041</td>\n",
       "    </tr>\n",
       "    <tr>\n",
       "      <th>CLIENT_LAST_DEPOSITElapsed</th>\n",
       "      <td>0.095790</td>\n",
       "    </tr>\n",
       "    <tr>\n",
       "      <th>CLIENT_FIRST_ORDER_CLOSEDYear</th>\n",
       "      <td>-0.101227</td>\n",
       "    </tr>\n",
       "    <tr>\n",
       "      <th>CLIENT_FIRST_ORDER_CLOSEDMonth</th>\n",
       "      <td>0.033684</td>\n",
       "    </tr>\n",
       "    <tr>\n",
       "      <th>CLIENT_FIRST_ORDER_CLOSEDWeek</th>\n",
       "      <td>0.033794</td>\n",
       "    </tr>\n",
       "    <tr>\n",
       "      <th>CLIENT_FIRST_ORDER_CLOSEDDay</th>\n",
       "      <td>0.009878</td>\n",
       "    </tr>\n",
       "    <tr>\n",
       "      <th>CLIENT_FIRST_ORDER_CLOSEDDayofweek</th>\n",
       "      <td>0.008810</td>\n",
       "    </tr>\n",
       "    <tr>\n",
       "      <th>CLIENT_FIRST_ORDER_CLOSEDDayofyear</th>\n",
       "      <td>0.033945</td>\n",
       "    </tr>\n",
       "    <tr>\n",
       "      <th>CLIENT_FIRST_ORDER_CLOSEDIs_month_end</th>\n",
       "      <td>0.005042</td>\n",
       "    </tr>\n",
       "    <tr>\n",
       "      <th>CLIENT_FIRST_ORDER_CLOSEDIs_month_start</th>\n",
       "      <td>0.008256</td>\n",
       "    </tr>\n",
       "    <tr>\n",
       "      <th>CLIENT_FIRST_ORDER_CLOSEDIs_quarter_end</th>\n",
       "      <td>-0.001328</td>\n",
       "    </tr>\n",
       "    <tr>\n",
       "      <th>CLIENT_FIRST_ORDER_CLOSEDIs_quarter_start</th>\n",
       "      <td>0.006013</td>\n",
       "    </tr>\n",
       "    <tr>\n",
       "      <th>CLIENT_FIRST_ORDER_CLOSEDIs_year_end</th>\n",
       "      <td>0.006848</td>\n",
       "    </tr>\n",
       "    <tr>\n",
       "      <th>CLIENT_FIRST_ORDER_CLOSEDIs_year_start</th>\n",
       "      <td>0.013972</td>\n",
       "    </tr>\n",
       "    <tr>\n",
       "      <th>CLIENT_FIRST_ORDER_CLOSEDElapsed</th>\n",
       "      <td>-0.095709</td>\n",
       "    </tr>\n",
       "    <tr>\n",
       "      <th>CLIENT_LAST_ORDER_CLOSEDYear</th>\n",
       "      <td>0.829707</td>\n",
       "    </tr>\n",
       "    <tr>\n",
       "      <th>CLIENT_LAST_ORDER_CLOSEDMonth</th>\n",
       "      <td>-0.026925</td>\n",
       "    </tr>\n",
       "    <tr>\n",
       "      <th>CLIENT_LAST_ORDER_CLOSEDWeek</th>\n",
       "      <td>-0.033191</td>\n",
       "    </tr>\n",
       "    <tr>\n",
       "      <th>CLIENT_LAST_ORDER_CLOSEDDay</th>\n",
       "      <td>-0.089979</td>\n",
       "    </tr>\n",
       "    <tr>\n",
       "      <th>CLIENT_LAST_ORDER_CLOSEDDayofweek</th>\n",
       "      <td>-0.005397</td>\n",
       "    </tr>\n",
       "    <tr>\n",
       "      <th>CLIENT_LAST_ORDER_CLOSEDDayofyear</th>\n",
       "      <td>-0.036114</td>\n",
       "    </tr>\n",
       "    <tr>\n",
       "      <th>CLIENT_LAST_ORDER_CLOSEDIs_month_end</th>\n",
       "      <td>-0.020291</td>\n",
       "    </tr>\n",
       "    <tr>\n",
       "      <th>CLIENT_LAST_ORDER_CLOSEDIs_month_start</th>\n",
       "      <td>0.083121</td>\n",
       "    </tr>\n",
       "    <tr>\n",
       "      <th>CLIENT_LAST_ORDER_CLOSEDIs_quarter_end</th>\n",
       "      <td>-0.033110</td>\n",
       "    </tr>\n",
       "    <tr>\n",
       "      <th>CLIENT_LAST_ORDER_CLOSEDIs_quarter_start</th>\n",
       "      <td>0.034658</td>\n",
       "    </tr>\n",
       "    <tr>\n",
       "      <th>CLIENT_LAST_ORDER_CLOSEDIs_year_end</th>\n",
       "      <td>0.001271</td>\n",
       "    </tr>\n",
       "    <tr>\n",
       "      <th>CLIENT_LAST_ORDER_CLOSEDIs_year_start</th>\n",
       "      <td>0.026837</td>\n",
       "    </tr>\n",
       "    <tr>\n",
       "      <th>CLIENT_LAST_ORDER_CLOSEDElapsed</th>\n",
       "      <td>0.804470</td>\n",
       "    </tr>\n",
       "  </tbody>\n",
       "</table>\n",
       "<p>95 rows × 1 columns</p>\n",
       "</div>"
      ],
      "text/plain": [
       "                                           ACTIVE_2018\n",
       "YEARS_SINCE_REGISTRATION                      0.045832\n",
       "YEARS_SINCE_FIRST_DEPOSIT                    -0.002810\n",
       "YEARS_SINCE_FIRST_ORDER_CLOSED                0.094437\n",
       "COUNT_ORDER                                   0.107188\n",
       "COUNT_ORDER_CLASS_OPEN                        0.118334\n",
       "AVG_ORDER_CLASS_OPEN                         -0.077980\n",
       "COUNT_ORDER_CLASS_TEAM                        0.035719\n",
       "AVG_ORDER_CLASS_TEAM                          0.040739\n",
       "COUNT_ORDER_CLASS_DIRECT                      0.065545\n",
       "AVG_ORDER_CLASS_DIRECT                        0.064825\n",
       "COUNT_AUTHOR                                  0.223225\n",
       "AVG_AUTHOR                                   -0.242854\n",
       "COUNT_REVISION_REQUEST                        0.092627\n",
       "AVG_REVISION_REQUEST                         -0.073658\n",
       "SUM_WRITTEN_WORDS                             0.145750\n",
       "AVG_WRITTEN_WORDS                            -0.022227\n",
       "SUM_GAIN_AUTHOR                               0.011709\n",
       "AVG_GAIN_AUTHOR                              -0.011446\n",
       "SUM_REVENUE                                   0.010599\n",
       "AVG_REVENUE                                   0.010268\n",
       "SUM_DAYS_TO_WRITE_ORDER                       0.044429\n",
       "AVG_DAYS_TO_WRITE_ORDER                      -0.058737\n",
       "SUM_DAYS_ORDER_PENDING                       -0.010656\n",
       "AVG_DAYS_ORDER_PENDING                       -0.020518\n",
       "SUM_COUNT_PICKED_BY_AUTHOR                    0.122012\n",
       "AVG_COUNT_PICKED_BY_AUTHOR                   -0.061471\n",
       "SUM_YEARS_AUTHOR_REG                          0.102908\n",
       "AVG_YEARS_AUTHOR_REG                         -0.044824\n",
       "ACTIVE_2018                                   1.000000\n",
       "REVENUE_2018                                  0.062564\n",
       "...                                                ...\n",
       "CLIENT_LAST_DEPOSITIs_quarter_start          -0.005028\n",
       "CLIENT_LAST_DEPOSITIs_year_end                0.029715\n",
       "CLIENT_LAST_DEPOSITIs_year_start             -0.023041\n",
       "CLIENT_LAST_DEPOSITElapsed                    0.095790\n",
       "CLIENT_FIRST_ORDER_CLOSEDYear                -0.101227\n",
       "CLIENT_FIRST_ORDER_CLOSEDMonth                0.033684\n",
       "CLIENT_FIRST_ORDER_CLOSEDWeek                 0.033794\n",
       "CLIENT_FIRST_ORDER_CLOSEDDay                  0.009878\n",
       "CLIENT_FIRST_ORDER_CLOSEDDayofweek            0.008810\n",
       "CLIENT_FIRST_ORDER_CLOSEDDayofyear            0.033945\n",
       "CLIENT_FIRST_ORDER_CLOSEDIs_month_end         0.005042\n",
       "CLIENT_FIRST_ORDER_CLOSEDIs_month_start       0.008256\n",
       "CLIENT_FIRST_ORDER_CLOSEDIs_quarter_end      -0.001328\n",
       "CLIENT_FIRST_ORDER_CLOSEDIs_quarter_start     0.006013\n",
       "CLIENT_FIRST_ORDER_CLOSEDIs_year_end          0.006848\n",
       "CLIENT_FIRST_ORDER_CLOSEDIs_year_start        0.013972\n",
       "CLIENT_FIRST_ORDER_CLOSEDElapsed             -0.095709\n",
       "CLIENT_LAST_ORDER_CLOSEDYear                  0.829707\n",
       "CLIENT_LAST_ORDER_CLOSEDMonth                -0.026925\n",
       "CLIENT_LAST_ORDER_CLOSEDWeek                 -0.033191\n",
       "CLIENT_LAST_ORDER_CLOSEDDay                  -0.089979\n",
       "CLIENT_LAST_ORDER_CLOSEDDayofweek            -0.005397\n",
       "CLIENT_LAST_ORDER_CLOSEDDayofyear            -0.036114\n",
       "CLIENT_LAST_ORDER_CLOSEDIs_month_end         -0.020291\n",
       "CLIENT_LAST_ORDER_CLOSEDIs_month_start        0.083121\n",
       "CLIENT_LAST_ORDER_CLOSEDIs_quarter_end       -0.033110\n",
       "CLIENT_LAST_ORDER_CLOSEDIs_quarter_start      0.034658\n",
       "CLIENT_LAST_ORDER_CLOSEDIs_year_end           0.001271\n",
       "CLIENT_LAST_ORDER_CLOSEDIs_year_start         0.026837\n",
       "CLIENT_LAST_ORDER_CLOSEDElapsed               0.804470\n",
       "\n",
       "[95 rows x 1 columns]"
      ]
     },
     "execution_count": 354,
     "metadata": {},
     "output_type": "execute_result"
    }
   ],
   "source": [
    "XX.corr()[[\"ACTIVE_2018\"]]"
   ]
  },
  {
   "cell_type": "code",
   "execution_count": 355,
   "metadata": {},
   "outputs": [
    {
     "data": {
      "text/plain": [
       "Index(['YEARS_SINCE_REGISTRATION', 'YEARS_SINCE_FIRST_DEPOSIT',\n",
       "       'YEARS_SINCE_FIRST_ORDER_CLOSED', 'COUNT_ORDER',\n",
       "       'COUNT_ORDER_CLASS_OPEN', 'AVG_ORDER_CLASS_OPEN',\n",
       "       'COUNT_ORDER_CLASS_TEAM', 'AVG_ORDER_CLASS_TEAM',\n",
       "       'COUNT_ORDER_CLASS_DIRECT', 'AVG_ORDER_CLASS_DIRECT', 'COUNT_AUTHOR',\n",
       "       'AVG_AUTHOR', 'COUNT_REVISION_REQUEST', 'AVG_REVISION_REQUEST',\n",
       "       'SUM_WRITTEN_WORDS', 'AVG_WRITTEN_WORDS', 'SUM_GAIN_AUTHOR',\n",
       "       'AVG_GAIN_AUTHOR', 'SUM_REVENUE', 'AVG_REVENUE',\n",
       "       'SUM_DAYS_TO_WRITE_ORDER', 'AVG_DAYS_TO_WRITE_ORDER',\n",
       "       'SUM_DAYS_ORDER_PENDING', 'AVG_DAYS_ORDER_PENDING',\n",
       "       'SUM_COUNT_PICKED_BY_AUTHOR', 'AVG_COUNT_PICKED_BY_AUTHOR',\n",
       "       'SUM_YEARS_AUTHOR_REG', 'AVG_YEARS_AUTHOR_REG', 'ACTIVE_2018',\n",
       "       'REVENUE_2018', 'CLIENT_REGISTER_DATEYear', 'CLIENT_REGISTER_DATEMonth',\n",
       "       'CLIENT_REGISTER_DATEWeek', 'CLIENT_REGISTER_DATEDay',\n",
       "       'CLIENT_REGISTER_DATEDayofweek', 'CLIENT_REGISTER_DATEDayofyear',\n",
       "       'CLIENT_REGISTER_DATEIs_month_end',\n",
       "       'CLIENT_REGISTER_DATEIs_month_start',\n",
       "       'CLIENT_REGISTER_DATEIs_quarter_end',\n",
       "       'CLIENT_REGISTER_DATEIs_quarter_start',\n",
       "       'CLIENT_REGISTER_DATEIs_year_end', 'CLIENT_REGISTER_DATEIs_year_start',\n",
       "       'CLIENT_REGISTER_DATEElapsed', 'CLIENT_FIRST_DEPOSITYear',\n",
       "       'CLIENT_FIRST_DEPOSITMonth', 'CLIENT_FIRST_DEPOSITWeek',\n",
       "       'CLIENT_FIRST_DEPOSITDay', 'CLIENT_FIRST_DEPOSITDayofweek',\n",
       "       'CLIENT_FIRST_DEPOSITDayofyear', 'CLIENT_FIRST_DEPOSITIs_month_end',\n",
       "       'CLIENT_FIRST_DEPOSITIs_month_start',\n",
       "       'CLIENT_FIRST_DEPOSITIs_quarter_end',\n",
       "       'CLIENT_FIRST_DEPOSITIs_quarter_start',\n",
       "       'CLIENT_FIRST_DEPOSITIs_year_end', 'CLIENT_FIRST_DEPOSITIs_year_start',\n",
       "       'CLIENT_FIRST_DEPOSITElapsed', 'CLIENT_LAST_DEPOSITYear',\n",
       "       'CLIENT_LAST_DEPOSITMonth', 'CLIENT_LAST_DEPOSITWeek',\n",
       "       'CLIENT_LAST_DEPOSITDay', 'CLIENT_LAST_DEPOSITDayofweek',\n",
       "       'CLIENT_LAST_DEPOSITDayofyear', 'CLIENT_LAST_DEPOSITIs_month_end',\n",
       "       'CLIENT_LAST_DEPOSITIs_month_start',\n",
       "       'CLIENT_LAST_DEPOSITIs_quarter_end',\n",
       "       'CLIENT_LAST_DEPOSITIs_quarter_start', 'CLIENT_LAST_DEPOSITIs_year_end',\n",
       "       'CLIENT_LAST_DEPOSITIs_year_start', 'CLIENT_LAST_DEPOSITElapsed',\n",
       "       'CLIENT_FIRST_ORDER_CLOSEDYear', 'CLIENT_FIRST_ORDER_CLOSEDMonth',\n",
       "       'CLIENT_FIRST_ORDER_CLOSEDWeek', 'CLIENT_FIRST_ORDER_CLOSEDDay',\n",
       "       'CLIENT_FIRST_ORDER_CLOSEDDayofweek',\n",
       "       'CLIENT_FIRST_ORDER_CLOSEDDayofyear',\n",
       "       'CLIENT_FIRST_ORDER_CLOSEDIs_month_end',\n",
       "       'CLIENT_FIRST_ORDER_CLOSEDIs_month_start',\n",
       "       'CLIENT_FIRST_ORDER_CLOSEDIs_quarter_end',\n",
       "       'CLIENT_FIRST_ORDER_CLOSEDIs_quarter_start',\n",
       "       'CLIENT_FIRST_ORDER_CLOSEDIs_year_end',\n",
       "       'CLIENT_FIRST_ORDER_CLOSEDIs_year_start',\n",
       "       'CLIENT_FIRST_ORDER_CLOSEDElapsed', 'CLIENT_LAST_ORDER_CLOSEDYear',\n",
       "       'CLIENT_LAST_ORDER_CLOSEDMonth', 'CLIENT_LAST_ORDER_CLOSEDWeek',\n",
       "       'CLIENT_LAST_ORDER_CLOSEDDay', 'CLIENT_LAST_ORDER_CLOSEDDayofweek',\n",
       "       'CLIENT_LAST_ORDER_CLOSEDDayofyear',\n",
       "       'CLIENT_LAST_ORDER_CLOSEDIs_month_end',\n",
       "       'CLIENT_LAST_ORDER_CLOSEDIs_month_start',\n",
       "       'CLIENT_LAST_ORDER_CLOSEDIs_quarter_end',\n",
       "       'CLIENT_LAST_ORDER_CLOSEDIs_quarter_start',\n",
       "       'CLIENT_LAST_ORDER_CLOSEDIs_year_end',\n",
       "       'CLIENT_LAST_ORDER_CLOSEDIs_year_start',\n",
       "       'CLIENT_LAST_ORDER_CLOSEDElapsed'],\n",
       "      dtype='object')"
      ]
     },
     "execution_count": 355,
     "metadata": {},
     "output_type": "execute_result"
    }
   ],
   "source": [
    "XX.corr()[[\"ACTIVE_2018\"]].index"
   ]
  },
  {
   "cell_type": "code",
   "execution_count": 356,
   "metadata": {},
   "outputs": [
    {
     "name": "stdout",
     "output_type": "stream",
     "text": [
      "['YEARS_SINCE_REGISTRATION', 'YEARS_SINCE_FIRST_DEPOSIT', 'YEARS_SINCE_FIRST_ORDER_CLOSED', 'COUNT_ORDER', 'COUNT_ORDER_CLASS_OPEN', 'AVG_ORDER_CLASS_OPEN', 'COUNT_ORDER_CLASS_TEAM', 'AVG_ORDER_CLASS_TEAM', 'COUNT_ORDER_CLASS_DIRECT', 'AVG_ORDER_CLASS_DIRECT', 'COUNT_AUTHOR', 'COUNT_REVISION_REQUEST', 'AVG_REVISION_REQUEST', 'SUM_WRITTEN_WORDS', 'AVG_WRITTEN_WORDS', 'SUM_GAIN_AUTHOR', 'AVG_GAIN_AUTHOR', 'SUM_REVENUE', 'AVG_REVENUE', 'SUM_DAYS_TO_WRITE_ORDER', 'AVG_DAYS_TO_WRITE_ORDER', 'SUM_DAYS_ORDER_PENDING', 'AVG_DAYS_ORDER_PENDING', 'SUM_COUNT_PICKED_BY_AUTHOR', 'AVG_COUNT_PICKED_BY_AUTHOR', 'SUM_YEARS_AUTHOR_REG', 'AVG_YEARS_AUTHOR_REG', 'REVENUE_2018', 'CLIENT_REGISTER_DATEYear', 'CLIENT_REGISTER_DATEMonth', 'CLIENT_REGISTER_DATEWeek', 'CLIENT_REGISTER_DATEDay', 'CLIENT_REGISTER_DATEDayofweek', 'CLIENT_REGISTER_DATEDayofyear', 'CLIENT_REGISTER_DATEIs_month_end', 'CLIENT_REGISTER_DATEIs_month_start', 'CLIENT_REGISTER_DATEIs_quarter_end', 'CLIENT_REGISTER_DATEIs_quarter_start', 'CLIENT_REGISTER_DATEIs_year_end', 'CLIENT_REGISTER_DATEIs_year_start', 'CLIENT_REGISTER_DATEElapsed', 'CLIENT_FIRST_DEPOSITYear', 'CLIENT_FIRST_DEPOSITMonth', 'CLIENT_FIRST_DEPOSITWeek', 'CLIENT_FIRST_DEPOSITDay', 'CLIENT_FIRST_DEPOSITDayofweek', 'CLIENT_FIRST_DEPOSITDayofyear', 'CLIENT_FIRST_DEPOSITIs_month_end', 'CLIENT_FIRST_DEPOSITIs_month_start', 'CLIENT_FIRST_DEPOSITIs_quarter_end', 'CLIENT_FIRST_DEPOSITIs_quarter_start', 'CLIENT_FIRST_DEPOSITIs_year_end', 'CLIENT_FIRST_DEPOSITIs_year_start', 'CLIENT_FIRST_DEPOSITElapsed', 'CLIENT_LAST_DEPOSITYear', 'CLIENT_LAST_DEPOSITMonth', 'CLIENT_LAST_DEPOSITWeek', 'CLIENT_LAST_DEPOSITDay', 'CLIENT_LAST_DEPOSITDayofweek', 'CLIENT_LAST_DEPOSITDayofyear', 'CLIENT_LAST_DEPOSITIs_month_end', 'CLIENT_LAST_DEPOSITIs_month_start', 'CLIENT_LAST_DEPOSITIs_quarter_end', 'CLIENT_LAST_DEPOSITIs_quarter_start', 'CLIENT_LAST_DEPOSITIs_year_end', 'CLIENT_LAST_DEPOSITIs_year_start', 'CLIENT_LAST_DEPOSITElapsed', 'CLIENT_FIRST_ORDER_CLOSEDMonth', 'CLIENT_FIRST_ORDER_CLOSEDWeek', 'CLIENT_FIRST_ORDER_CLOSEDDay', 'CLIENT_FIRST_ORDER_CLOSEDDayofweek', 'CLIENT_FIRST_ORDER_CLOSEDDayofyear', 'CLIENT_FIRST_ORDER_CLOSEDIs_month_end', 'CLIENT_FIRST_ORDER_CLOSEDIs_month_start', 'CLIENT_FIRST_ORDER_CLOSEDIs_quarter_end', 'CLIENT_FIRST_ORDER_CLOSEDIs_quarter_start', 'CLIENT_FIRST_ORDER_CLOSEDIs_year_end', 'CLIENT_FIRST_ORDER_CLOSEDIs_year_start', 'CLIENT_FIRST_ORDER_CLOSEDElapsed', 'CLIENT_LAST_ORDER_CLOSEDYear', 'CLIENT_LAST_ORDER_CLOSEDMonth', 'CLIENT_LAST_ORDER_CLOSEDWeek', 'CLIENT_LAST_ORDER_CLOSEDDay', 'CLIENT_LAST_ORDER_CLOSEDDayofweek', 'CLIENT_LAST_ORDER_CLOSEDDayofyear', 'CLIENT_LAST_ORDER_CLOSEDIs_month_end', 'CLIENT_LAST_ORDER_CLOSEDIs_month_start', 'CLIENT_LAST_ORDER_CLOSEDIs_quarter_end', 'CLIENT_LAST_ORDER_CLOSEDIs_quarter_start', 'CLIENT_LAST_ORDER_CLOSEDIs_year_end', 'CLIENT_LAST_ORDER_CLOSEDIs_year_start', 'CLIENT_LAST_ORDER_CLOSEDElapsed']\n"
     ]
    }
   ],
   "source": [
    "XXC=XX.corr()\n",
    "col_to_drop=[col for col in XXC[[\"ACTIVE_2018\"]].index \n",
    "             if (XXC.loc[col,\"ACTIVE_2018\"]>-0.1) and col!=\"ACTIVE_2018\"]\n",
    "print(col_to_drop)\n"
   ]
  },
  {
   "cell_type": "code",
   "execution_count": 357,
   "metadata": {},
   "outputs": [],
   "source": [
    "X_full=X_full.drop(col_to_drop,axis=1)\n",
    "#XX=XX.drop(col_to_drop,axis=1)"
   ]
  },
  {
   "cell_type": "code",
   "execution_count": 358,
   "metadata": {},
   "outputs": [
    {
     "data": {
      "text/plain": [
       "Index(['CLIENT_SEGMENT', 'SYSTEM_S', 'AVG_AUTHOR',\n",
       "       'CLIENT_FIRST_ORDER_CLOSEDYear'],\n",
       "      dtype='object')"
      ]
     },
     "execution_count": 358,
     "metadata": {},
     "output_type": "execute_result"
    }
   ],
   "source": [
    "X_full.columns"
   ]
  },
  {
   "cell_type": "code",
   "execution_count": 359,
   "metadata": {},
   "outputs": [],
   "source": [
    "X, X_test, y, y_test= train_test_split(X_full, y_full, \n",
    "                            train_size=0.5, test_size=0.5,     random_state=1)\n",
    "X_train, X_valid, y_train, y_valid = train_test_split(X, y, \n",
    "                                 train_size=0.8, test_size=0.2,   random_state=1)\n"
   ]
  },
  {
   "cell_type": "code",
   "execution_count": 360,
   "metadata": {},
   "outputs": [
    {
     "data": {
      "text/plain": [
       "array(['uk', 'de', 'fr', 'es', 'nl', 'it', 'pt'], dtype=object)"
      ]
     },
     "execution_count": 360,
     "metadata": {},
     "output_type": "execute_result"
    }
   ],
   "source": [
    "X_train[\"SYSTEM_S\"].unique()\n"
   ]
  },
  {
   "cell_type": "code",
   "execution_count": 361,
   "metadata": {},
   "outputs": [],
   "source": [
    "\n",
    "oHEncoder=OneHotEncoder(handle_unknown='ignore', sparse=False)\n"
   ]
  },
  {
   "cell_type": "code",
   "execution_count": 362,
   "metadata": {},
   "outputs": [],
   "source": [
    "\n",
    "preprocessor = ColumnTransformer(\n",
    "    transformers=[\n",
    "        \n",
    "        (\"cat\",oHEncoder,cat_col),\n",
    "       # (\"date\", DictVectorizer(),date_col)\n",
    "    ])"
   ]
  },
  {
   "cell_type": "code",
   "execution_count": 363,
   "metadata": {},
   "outputs": [],
   "source": [
    "from sklearn.ensemble import RandomForestClassifier\n",
    "model = RandomForestClassifier(n_estimators=500,random_state=1)\n",
    "#from sklearn.svm import LinearSVC\n",
    "#from sklearn.svm import SVC\n",
    "#model = SVC(C=150, gamma=2e-2, probability=True)\n",
    "#from sklearn.neighbors import KNeighborsClassifier\n",
    "#model = KNeighborsClassifier(n_neighbors=6)\n",
    "#from xgboost import XGBClassifier\n",
    "#model = XGBClassifier(colsample_bytree = 0.3, learning_rate = 0.05,\n",
    " #               max_depth = 5, alpha = 10, n_estimators = 10)\n"
   ]
  },
  {
   "cell_type": "code",
   "execution_count": 364,
   "metadata": {},
   "outputs": [],
   "source": [
    "pipe = Pipeline(steps=[\n",
    "                        ('preprocessor', preprocessor),\n",
    "                       #('vectorizer', DictVectorizer()),\n",
    "                       ('model', model)\n",
    "                             ])"
   ]
  },
  {
   "cell_type": "code",
   "execution_count": 365,
   "metadata": {},
   "outputs": [],
   "source": [
    "def r(XX):\n",
    "    return XX.values.reshape(-1,)"
   ]
  },
  {
   "cell_type": "code",
   "execution_count": 366,
   "metadata": {},
   "outputs": [
    {
     "data": {
      "text/plain": [
       "Pipeline(memory=None,\n",
       "     steps=[('preprocessor', ColumnTransformer(n_jobs=None, remainder='drop', sparse_threshold=0.3,\n",
       "         transformer_weights=None,\n",
       "         transformers=[('cat', OneHotEncoder(categorical_features=None, categories=None,\n",
       "       dtype=<class 'numpy.float64'>, handle_unknown='ignore',\n",
       "       n_values=No...mators=500, n_jobs=None,\n",
       "            oob_score=False, random_state=1, verbose=0, warm_start=False))])"
      ]
     },
     "execution_count": 366,
     "metadata": {},
     "output_type": "execute_result"
    }
   ],
   "source": [
    "pipe.fit(X, y[\"ACTIVE_2018\"])"
   ]
  },
  {
   "cell_type": "code",
   "execution_count": 367,
   "metadata": {},
   "outputs": [],
   "source": [
    "pred=pipe.predict(X_test)"
   ]
  },
  {
   "cell_type": "code",
   "execution_count": 368,
   "metadata": {},
   "outputs": [
    {
     "data": {
      "text/plain": [
       "(array([0]), array([8982]))"
      ]
     },
     "execution_count": 368,
     "metadata": {},
     "output_type": "execute_result"
    }
   ],
   "source": [
    "n=np.array(pred)\n",
    "np.unique(n,return_counts=True)"
   ]
  },
  {
   "cell_type": "code",
   "execution_count": 369,
   "metadata": {},
   "outputs": [
    {
     "data": {
      "text/plain": [
       "0.6869294143843242"
      ]
     },
     "execution_count": 369,
     "metadata": {},
     "output_type": "execute_result"
    }
   ],
   "source": [
    "accuracy_score(y_test[\"ACTIVE_2018\"],pred)"
   ]
  },
  {
   "cell_type": "code",
   "execution_count": 370,
   "metadata": {},
   "outputs": [],
   "source": [
    "OH_cols_train = pd.DataFrame(oHEncoder.fit_transform(X[cat_col]))\n",
    "OH_cols_train.index = X.index\n",
    "OH_X_train = pd.concat([XX, OH_cols_train], axis=1)\n"
   ]
  },
  {
   "cell_type": "code",
   "execution_count": 371,
   "metadata": {},
   "outputs": [
    {
     "data": {
      "text/plain": [
       "'sns.heatmap(pd.DataFrame([X_full,XX[[\"ACTIVE_2018\"]]]).corr(),\\n            vmin=-1,\\n            cmap=\\'coolwarm\\',\\n            )\\n            '"
      ]
     },
     "execution_count": 371,
     "metadata": {},
     "output_type": "execute_result"
    },
    {
     "data": {
      "image/png": "[encoded data removed]",
      "text/plain": [
       "<Figure size 360x360 with 2 Axes>"
      ]
     },
     "metadata": {
      "needs_background": "light"
     },
     "output_type": "display_data"
    }
   ],
   "source": [
    "import seaborn as sns;\n",
    "import matplotlib.pyplot as plt\n",
    "\n",
    "coll=[\"ACTIVE_2018\"]\n",
    "plt.figure(figsize=(5,5))\n",
    "sns.heatmap(XX.corr()[coll],\n",
    "            vmin=-1,\n",
    "            cmap='coolwarm',\n",
    "            )\n",
    "        \n",
    "\"\"\"sns.heatmap(pd.DataFrame([X_full,XX[[\"ACTIVE_2018\"]]]).corr(),\n",
    "            vmin=-1,\n",
    "            cmap='coolwarm',\n",
    "            )\n",
    "            \"\"\""
   ]
  },
  {
   "cell_type": "code",
   "execution_count": 372,
   "metadata": {},
   "outputs": [
    {
     "data": {
      "text/plain": [
       "Index(['CLIENT_SEGMENT', 'SYSTEM_S', 'AVG_AUTHOR',\n",
       "       'CLIENT_FIRST_ORDER_CLOSEDYear'],\n",
       "      dtype='object')"
      ]
     },
     "execution_count": 372,
     "metadata": {},
     "output_type": "execute_result"
    }
   ],
   "source": [
    "X.columns"
   ]
  },
  {
   "cell_type": "code",
   "execution_count": 373,
   "metadata": {},
   "outputs": [
    {
     "data": {
      "text/plain": [
       "<matplotlib.axes._subplots.AxesSubplot at 0x7f5a69430908>"
      ]
     },
     "execution_count": 373,
     "metadata": {},
     "output_type": "execute_result"
    },
    {
     "data": {
      "image/png": "[encoded data removed]",
      "text/plain": [
       "<Figure size 432x288 with 1 Axes>"
      ]
     },
     "metadata": {
      "needs_background": "light"
     },
     "output_type": "display_data"
    }
   ],
   "source": [
    "X.plot()"
   ]
  },
  {
   "cell_type": "code",
   "execution_count": null,
   "metadata": {},
   "outputs": [],
   "source": []
  }
 ],
 "metadata": {
  "kernelspec": {
   "display_name": "Python 3",
   "language": "python",
   "name": "python3"
  },
  "language_info": {
   "codemirror_mode": {
    "name": "ipython",
    "version": 3
   },
   "file_extension": ".py",
   "mimetype": "text/x-python",
   "name": "python",
   "nbconvert_exporter": "python",
   "pygments_lexer": "ipython3",
   "version": "3.7.3"
  }
 },
 "nbformat": 4,
 "nbformat_minor": 2
}
