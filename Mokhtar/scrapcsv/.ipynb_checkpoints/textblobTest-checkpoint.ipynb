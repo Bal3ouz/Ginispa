{
 "cells": [
  {
   "cell_type": "code",
   "execution_count": 1,
   "metadata": {},
   "outputs": [],
   "source": [
    "import sklearn\n",
    "import numpy as np\n",
    "from spacy.lang.fr import French\n",
    "parser = French()\n",
    "from sklearn.feature_extraction.text import CountVectorizer,TfidfVectorizer\n",
    "import textacy\n",
    "import pandas as pd\n",
    "from sklearn.pipeline import Pipeline\n",
    "from sklearn.model_selection import train_test_split\n",
    "from textblob import TextBlob\n",
    "from textblob import Blobber\n",
    "from textblob_fr import PatternTagger, PatternAnalyzer\n",
    "import spacy"
   ]
  },
  {
   "cell_type": "code",
   "execution_count": 2,
   "metadata": {},
   "outputs": [],
   "source": [
    "nlp=spacy.load(\"fr_core_news_md\")"
   ]
  },
  {
   "cell_type": "code",
   "execution_count": 3,
   "metadata": {},
   "outputs": [],
   "source": [
    "X1=pd.read_csv(\"mosa.csv\")\n"
   ]
  },
  {
   "cell_type": "code",
   "execution_count": 4,
   "metadata": {},
   "outputs": [],
   "source": [
    "spacy_stopwords = spacy.lang.fr.stop_words.STOP_WORDS\n",
    "stop=list(spacy_stopwords)"
   ]
  },
  {
   "cell_type": "code",
   "execution_count": 5,
   "metadata": {},
   "outputs": [],
   "source": [
    "def spacy_tokenizer(sentence):\n",
    "    sentence=textacy.preprocess_text(sentence,lowercase=True,no_punct=True,no_urls=True\n",
    "                                    ,no_emails=True,no_currency_symbols=True)\n",
    "    mytokens = parser(sentence)\n",
    "    mytokens = [ word.lemma_.lower().strip() if word.lemma_ != \"-PRON-\" else word.lower_ for word in mytokens ]\n",
    "    mytokens = [ word.strip().lower() for word in mytokens if word.strip().lower() not in stop ]\n",
    "    return mytokens"
   ]
  },
  {
   "cell_type": "code",
   "execution_count": 6,
   "metadata": {},
   "outputs": [],
   "source": [
    "X1=X1.dropna(axis=0)"
   ]
  },
  {
   "cell_type": "code",
   "execution_count": 7,
   "metadata": {},
   "outputs": [
    {
     "name": "stdout",
     "output_type": "stream",
     "text": [
      "(0.0, 0.0) \n",
      " Mosaïque FM a appris que le président du Parlement, Mohamed Naceur, a interrompu son congé maladie afin de se rendre à l'Assemblée des représentants du peuple. ,Il s'en était, en effet, absenté depuis quelques jours en raison d'un malaise.,Il est attendu que Mohamed Naceur préside la réunion des présidents des blocs parlementaires.\n",
      "(0.13, 0.04) \n",
      " Mosaïque FM a appris que les présidents des blocs parlementaires ont affirmé, à l'unanimité, qu'il n'y aucune vacance officielle au niveau de la présidence de la République.,Mohamed Naceur a, dans ce sens, souhaité prompt rétablissement à Caid Essebsi qui a été victime d'un deuxième malaise qualifié d'aigu.,\"Nous sommes de tout coeur avec Monsieur le président.\", s'est-il exprimé.\n",
      "(0.0, 0.0) \n",
      " Nidaa Tounes a annoncé dans un communiqué rendu public ce vendredi que le président de la République, Béji Caid Essebsi, avait reçu le chef du Gouvernement Youssef Chahed et Caid Essebsi junior à l'hôpital militaire.,Ils lui ont fait état de la situation globale du pays et des événements à venir, selon le communiqué.\n",
      "(0.2, 0.2) \n",
      " L’instance de contrôle de la constitutionnalité des lois a reçu une demande du chef du gouvernement Youssef Chahed d'accélérer la révision des recours déposés au sujet de l'amendement de la loi électorale, approuvé récemment au parlement, a assuré Hayder Ben Amor, président de l'instance.,Il est à rappeler que 51 députés ont signé une pétition contre l'amendement de la loi électorale.\n",
      "(-0.01666666666666667, 0.05000000000000001) \n",
      " Le parti tunisien pour la paix sociale, créé officiellement le 20 juin 2019, a annoncé dans un communiqué  qu’il a changé de nom en devenant \"Au Cœur de Tunisie\".,Le parti a annoncé que le fondateur de la chaîne Nessma TV, Nabil Karoui a été désigné président alors que Feti Houidi a été nommé coordinatrice générale. Par ailleurs, Samira Chaouachi a été désignée porte-parole du parti., \n",
      "(0.09499999999999999, 0.1875) \n",
      " Le représentant légal de Nidaa Tounes, Hafedh Caid Essebsi a indiqué dans une déclaration accordée à Al Jazeera.net que le président de la république, Béji Caid Essebsi se porte bien et qu’il pourrait quitter l’hôpital demain ou après demain.,Dans ce contexte, Hafedh Caid Essbesi a dénoncé les rumeurs sur le décès de son père qui ont été diffusées par médias du golfe et a mis en garde contre les tentatives de déstabiliser la Tunisie et saboter le processus de transition démocratique dans notre pays.,Hafedh Caid Essebsi a qualifié ce qui s’est passé le 27 mai au parlement de scandale et que certaines parties ont voulu profiter de la situation et de certaines failles de la constitution pour s’emparer du pouvoir., \n",
      "(0.13833333333333334, 0.20000000000000004) \n",
      " Le bureau politique de Nidaa Tounes a déclaré ce mardi que le parti avait décidé de se présenter aux Légistatives avec sa propre liste.,Le dirigeant Hafedh Caid Essebsi a indiqué qu'il a été surpris par la décision de démission de Neji Jalloul et surtout à une telle période critique.,Il a toutefois nié l'existence d'un marché selon lequel un accord a été établi entre Nidaa Tounes et le Gouvernement afin de faire passer les amendements de la loi électorale en contre partie de la reconnaissance du clan de Monastir en tant que représentant légal du mouvement.\n",
      "(0.026666666666666672, 0.13333333333333333) \n",
      " Le membre du bureau de l'Assemblée des représentants du peuple, Ghazi Chaouachi, a déclaré à Mosaique FM que les partis au pouvoir évitent d'évoquer l'état de santé du président de la République, Béji Caid Essebsi ainsi que la vacance provisoire ou définitive de son poste, étant donné que Mohamed Naceur avait rassuré tout le monde à son sujet. Et d'appeler le Parlement à substituer le Tribunal constitutionnel.,\"Le Parlement devra s'apprêter à faire face à toutes les situations et assumer sa responsabilité en ce qui concerne une éventuelle vacance du poste du président de la République dans le but de prendre les mesures nécessaires.\", a-t-il expliqué.,Chaouachi a mis en garde contre un vide dudit poste même pour un petit lapse de temps car ce serait le début de l'anarchie.,   \n",
      "(0.038000000000000006, 0.10999999999999999) \n",
      " Nidaa Tounes a proposé au président de la République, Béji Caid Essebsi, de se présenter pour un nouveau mandat présidentiel, selon le représentant légal du parti, Hafedh Caid Essebsi.,\"Nous attendons encore son accord\", a t-il indiqué.,HCE a ajouté que Nidaa Tounes pourra s'allier à Tahya Tounes, le parti de Youssef Chahed, après les prochaines élections, afin de faire face ensemble à la crise.\n",
      "(0.006896551724137932, 0.11000000000000001) \n",
      " Le secrétaire général du Parti Tahya Tounes (Vive la Tunisie) Slim Azzabi a annoncé dimanche la désignation de Mustapha Ben Ahmed, vice-président de bureau politique. Cette désignation intervient à la suite de la réunion du bureau politique du parti.,Lors d'un point de presse, Slim Azzabi a déclaré que son parti se présentera avec ses propres listes aux élections législatives prévues le 6 octobre prochain, précisant que les efforts d'unification menés par Tahya Tounes ont réussi uniquement avec Al-Moubadara et Kamel Morjane \"malgré nos mains tendues à toutes les sensibilités politiques centristes\".,Pour sa part, Mustapha Ben Ahmed a indiqué que la réunion du bureau politique se tient à un moment critique au cours duquel la Tunisie à été visée par une opération terroriste \"dangereuse et lâche\", avertissant les Tunisiens qu'ils sont toujours en guerre contre ce fléau. Une opération, a-t-il dit, qui a coïncidé avec la maladie du président Béji Caïd Essebsi.,\"Nous nous réjouissons des informations faisant état de l'amélioration de l'état de santé du président de la République et souhaitons qu'il puisse reprendre ses activités rapidement\", a-t-il ajouté.,Mustapha Ben Ahmed a annoncé que le groupe parlementaire Coalition nationale va changer de nom prochainement. Il s'appellera dorénavant Tahya Tounes. Le groupe va poser de nouveau au parlement la question de la Cour constitutionnelle, a-t-il affirmé. Une question qu'il qualifie de \"prioritaire\" et de \"cruciale\", permettant à la Tunisie d'affronter les défis qui se posent.,Il a affirmé l'engagement du parti à respecter les dates fixées pour les échéances électorales prévues les 6 octobre et 17 novembre prochains.,La Cour constitutionnelle n'a pas été créée parce que certains groupes parlementaires n'ont pas tenu leurs promesses et ont voté blanc, a-t-il expliqué. Pour lui, cette instance devrait regrouper tous les acteurs politiques sous le signe fédérateur et enrichissant.,Par ailleurs, Mustapha Ben Ahmed a estimé que le gouvernement a réussi à rétablir la confiance pour l'économie nationale et à améliorer les indicateurs dans les domaines du tourisme et de l'agriculture, évoquant les promesses européennes de sortir la Tunisie des listes noires.,(Source : TAP), \n",
      "(0.06999999999999999, 0.11666666666666668) \n",
      " Le président du Conseil de la Choura d'Ennahdha, Abdelkarim Harouni, a déclaré ce vendredi que le parti ne craint la concurrence d'aucune partie et qu'il a foi en la conscience des Tunisiens.,\"L'élite du pays ne permettra pas aux escrocs de nuire à l'expérience démocratique tunisienne\", a-t-il indiqué, ajoutant : Celui qui exploite le travail associatif et use des financements étrangers afin de vouloir, soudain, devenir président de la République, ne peut que représenter un grand danger pour la démocratie.\",Il a conclu disant que tout le monde a le droit d'intenter un recours contre les amendements de la Loi électorale.\n",
      "(0.1366666666666667, 0.10833333333333334) \n",
      " L’activiste de la société civile à Ben Arous, Boutheina Hajji a indiqué sur les ondes de Mosaïque FM qu’une initiative politique indépendante a été officialisée ce dimanche 23 juin 2019 sous le nom \"Tounes Tajma’ona\" (La Tunisie nous rassemble) avec la participation de près de 2000 jeunes en provenance des différentes régions du pays.,Cette initiative vise à généraliser l’expérience de \"Ben Arous tajma’ona\".  , \n",
      "(0.2842857142857143, 0.2642857142857143) \n",
      " Mongi Rahoui, dirigeant du Front Populaire a considéré dans un meeting populaire à Béja, que Hamma Hammami n’est plus porte-parole d’Al Jabha mais plutôt de quatre partis.,Il a ajouté que Hamma Hammami fait obstacle au Front Populaire et qu’Al Jabha marque un nouveau départ aujourd’hui à Béja.\n",
      "(0.08949999999999998, 0.095) \n",
      " Deux nouveaux partis politiques viennent d’être créés, annonce, jeudi, le département en charge de la Relation avec les instances constitutionnelles, la société civile et des droits de l’Homme.,Il s’agit de ‘‘l’Union patriotique libre’’ et du \" parti tunisien pour la paix sociale \". Le premier est fondé par Taieb Sadok, avocat de l’homme d’affaires Slim Riahi alors que le deuxième est par Houda Knani.,Rappelons que l’UPL a été fondé par Slim Riahi en 2011. Il a réussi à obtenir 16 sièges à l’ARP suite aux législatives de 2014 avant sa fusion avec Nidaa Tounes en 2018 et sa dissolution quelques mois plus tard.,Ces deux formations politiques ont été créées en vertu des dispositions du décret-loi n°2011-87 portant organisation des partis, indique un communiqué du département.,Le lancement de ces deux partis porte désormais à 218, le nombre total des partis politiques en Tunisie, précise encore la même source\n",
      "(0.16499999999999998, 0.3) \n",
      " La présidence du gouvernement a envoyé une correspondance à Nidaa Tounes pour l’informer du fait que Hafedh Caid Essebsi restera l’unique représentant légal du parti jusqu’à ce que la justice judiciaire ne tranche sur cette question. ,   \n",
      "(-0.03333333333333333, 0.03333333333333333) \n",
      " Afek Tounes a annoncé que le général major retraité, Jamel Boujeh a rejoint le parti et sera la tête de liste d’Afek dans la circonscription de Kairouan lors des prochaines législatives.\n",
      "(-0.048, 0.13999999999999999) \n",
      " Le leader d'Ennahdha Rached Ghannouchi a, souhaité un prompt rétablissement au président de la République Béji Caïed Essebsi, ce dimanche 23 juin, lors de son allocution à l'occasion de l'achèvement de la troisième conférence annuelle des cadres du mouvement.,Rappelons que vendredi dernier le chef de l'Etat avait effectué des analyses à l',hôpital militaire, suite à un léger ,malaise, et qu'il se porte bien.\n",
      "(0.16124999999999998, 0.25625) \n",
      " Neji Jalloul a annoncé , officiellement, sa démission du poste de secrétaire général de Nidaa Tounes (clan de Monastir).,Dans un communiqué rendu public ce lundi, Jalloul a expliqué qu'il avait pris la décision de démissionner depuis un bon moment mais qu'il a préféré patienter avant de l'annoncer vu la situation critique du parti. Et d'ajouter qu'il avait toujours défendu le mouvement et ses structures et non les personnes.,Nombre de médias ont, en effet, relayé l'information liée à la démission de Jalloul faisant savoir qu'il allait être remplacé par Ali Hafsi.\n",
      "(0.010000000000000005, 0.10588235294117644) \n",
      " Le député Zouheir Maghzaoui, du bloc démocrate, a indiqué, jeudi, que le nombre de députés ayant signé la pétition pour soutenir le recours contre les amendements de la loi électorale a dépassé les quarante.,Le recours sera déposé auprès de l’Instance provisoire de contrôle de la constitutionnalité des projets de loi au début de la semaine prochaine, a-t-il déclaré à l’Agence Tunis-Afrique-Presse.,Beaucoup de députés rejettent, par principe, l’amendement de la loi électorale, à quelques mois des élections législatives et présidentielle, a-t-il dit. Pour lui, cet amendement sera exploité à des fins politiques étriquées.,  Maghzaoui a relevé que l’opposition usera de toutes les voies légales et constitutionnelles pour lutter contre ce genre de pratiques.,Il a fait remarquer que les blocs d’Ennahdha, de la Coalition nationale et d’el-Horra ont profité de leur majorité au parlement pour faire passer de force ces amendements, et ce malgré le refus de la société politique et de certains politiques et constitutionnalistes.,Intenter un recours contre une loi requiert la signature de 30 députés avant de le déposer auprès de l'Instance provisoire de contrôle de la constitutionnalité des projets de loi, conformément à l'article 18 de la loi organique relative à l'instance.,Le projet de loi organique portant amendement de la loi organique n°2014-16 du 26 mai 2014, relatif aux élections et aux référendums, a été adopté, mardi dernier, en plénière, dans son intégralité, avec 128 voix pour, 30 contre et 14 abstentions.,  Ce projet de loi devrait entrer en vigueur une fois publié au Journal Officiel de la République Tunisienne.\n",
      "(0.05333333333333334, 0.09166666666666666) \n",
      " Le parti \"Al Massar\" a annoncé, dans un communiqué, sa participation dans une nouvelle coalition politique et électorale appelée 'La voie démocratique et sociale'.,Le parti a affirmé son droit à la participation aux élections et son intention de proposer un candidat pour la Présidentielle.\n",
      "(0.04363636363636365, 0.1409090909090909) \n",
      " Le porte-parole du Front Populaire, Hamma Hammami, a qualifié l'adoption du projet d'amendement de la loi électorale de mascarade, lors d'une conférence de presse tenue ce mercredi.,\"Nous ne pouvons pas changer les règles du jeu à 4 mois des élections\", a-t-il déclaré.,Hammami a fait savoir que le Front populaire avait, auparavant, mis en garde contre le danger de l'instrumentalisation des médias et des associations caritatives à des fins politiques. Et d'ajouter que ces amendements de dernière minute ne sont autres que synonymes d'échec pour la coalition au pouvoir d'une part et de pourriture et de corruption politiques d'autre part.,Il faut lutter contre l'adoption de la loi électorale amendée par tous les moyens, d'après lui.\n",
      "(0.0050000000000000044, 0.025) \n",
      " Abdelhamid Jelassi, dirigeant au sein d'Ennahdha a assuré, ce jeudi 20 juin, que 55 députés parmi 68, ont renouvelé leurs candidatures aux élections législatives, en plus de 20 autres, relevant du bureau exécutif, et de 61  membres du conseil de la Choura.,Il a précisé que les listes préliminaires seront approuvées lors de la tenue du bureau exécutif du mouvement le 2 juillet., \n",
      "(0.0, 0.0) \n",
      " Ons Hattab, députée du bloc parlementaire de Nidaa Tounes a annoncé, que le bloc fera appel des amendements de la loi électorale approuvés, ce mardi 18 juin, à l'assemblée des représentants du peuple.,Pour Ons Hattab, cette initiative n'émane pas du gouvernement mais de Tahya Tounes et du mouvement Ennahdha.,Et d'ajouter que la loi inconstitutionnelle a été approuvée sous la pression.\n",
      "(-0.05800000000000001, 0.15) \n",
      " Nabil Karoui, candidat à l'élection présidentielle a publié un communiqué, ce mardi 18 juin, à l'issue de l'adoption de la loi électorale.,  ,  Il a précisé que \",ce qui s'est passé au sein de l'hémicycle ce jour est le suicide du pouvoir en place, sa faillite et  la faillite de son bloc parlementaire et de ses députés de la honte\",.,  Pour Nabil Karoui, \",ce même système a refusé l'interdiction du tourisme parlementaire et l’usurpation des voix du peuple mais a voté pour l’exclusion contre la constitution et contre les coutumes,.\",  D'autre part, le candidat à la Présidentielle a estimé que cette loi a été faite sur mesure, le ciblant personnellement et que ceci ne freinera pas son projet.,\",Mon projet dépasse ma personne car il concerne des milliers de citoyens (...) je ne vais pas les décevoir, je leur promets la victoire,\", a-t-il martelé.,Pour conclure, Nabil Karoui a adressé un message aux députés ayant voté pour cette loi, leur disant que la souveraineté nationale est une ligne rouge et que la Tunisie n’est pas à vendre., \n",
      "(0.0, 0.0) \n",
      " Yassine Ayari a publié sur sa page Facebook le liste des députés qui s'opposent à l'adoption de la loi électorale amendée.,La liste fut la suivante, : Fatma Mseddi, Noura Amri, Abdelaziz Kotti, Mohamed Fadher Ben Amra, Tarek Baraq, Taoufik Jemli, Ridha Dalleii, Mohamed Hamdi, Adnene Hajji, Hmed Khaskhoussi, Zouhaier Maghzaoui et Yassine Ayari.,Rappelons que la loi électorale a été votée comme suit : ,128 voix pour et 30 contre tandis que 14 députés s'en sont abstenus,.\n",
      "(0.5, 0.30000000000000004) \n",
      " Le premier vice président de l'ARP Abdelfattah Mourou a été victime ce mercredi 19 juin 2019, d'un malaise ce qui a nécessité l'intervention du  député et médecin Bechir Lazzem, afin de l'examiner.,  L'état de santé de Mourou s'était dégradé après avoir levé la séance ayant connu des tensions entre les députés de mouvements Ennahdha et le président du bloc démocratique Salem Labyedh.\n",
      "(0.5, 0.5) \n",
      " Le député du Front populaire, Ahmed Seddik, a déclaré ce mercredi 19 juin qu'il était pour le fait d'intenter un recours contre la loi électorale adoptée hier, pour inconstitutionnalité.,Il a, en outre, souligné qu'il avait voté contre les amendements proposées car ils ont eu lieu la veille des élections.,   \n",
      "(0.05, 0.13999999999999999) \n",
      " Basma Belaid, veuve du martyr Chokri Belaid a nié avoir donné une quelconque déclaration aux médias concernant une éventuelle accusation d'avoir dissimulé des preuves dans le dossier de l'affaire Belaid.,  Elle a affirmé que c'est une plainte déposée par un blogueur à son encontre l'accusant d'avoir caché le téléphone du martyr alors qu'aucune accusation ne lui a été adressé.,  Elle considère que ces rumeurs s'inscrivent dans une campagne de dénigrement et atteinte à la mémoire du martyr.\n",
      "(0.0, 0.0) \n",
      " L'Assemblée des représentants du peuple a adopté le projet de loi portant amendement de la loi électorale en sa globalité.,128 députés ont voté pour, 20 contre et 14 s'en sont abstenus.\n",
      "(0.030909090909090907, 0.06363636363636363) \n",
      " Abdelaziz Kotti, secrétaire général de Nidaa Tounes, Clan Hammamet, a annoncé sur les ondes de Mosaïque FM que le conseil central de son parti a décidé d’intenter un procès à l’encontre de Mohamed Fadhel Mahfoudh, ministre chargé des relations avec les instances constitutionnelles.,Cette décision intervient après la confirmation du rejet de deux listes candidates de Nidaa Tounes aux élections municipales partielles au Bardo par le Tribunal administratif pour \"qualité de représentant légal non ‎‎prouvée\".,Abdelaziz Kotti a accusé FMohamed adhel Mahfoudh de faire croire au tribunal administratif de l’existence d’un litige judiciaire au sein de Nidaa Tounes et a estimé que cela s’inscrit dans le cadre d’un projet d’exclusion des concurrents d’un parti politique qu’il n’a pas cité.\n"
     ]
    }
   ],
   "source": [
    "blob=Blobber(pos_tagger=PatternTagger(), analyzer=PatternAnalyzer())\n",
    "for art in X1[\"article\"]:\n",
    "    #blb=blob(\"\".join(spacy_tokenizer(art)))\n",
    "    #blb=blob(art)\n",
    "    blb=TextBlob(art,pos_tagger=PatternTagger(), analyzer=PatternAnalyzer())\n",
    "    #print(\"{1} -->  {2}\".format(blb.sentiment,art))\n",
    "   \n",
    "    print(blb.sentiment,\"\\n\",art)\n",
    "    "
   ]
  },
  {
   "cell_type": "code",
   "execution_count": 8,
   "metadata": {},
   "outputs": [],
   "source": [
    "??TextBlob.sentiment"
   ]
  },
  {
   "cell_type": "code",
   "execution_count": 9,
   "metadata": {},
   "outputs": [],
   "source": [
    "dt=pd.read_csv(\"data.csv\")"
   ]
  },
  {
   "cell_type": "code",
   "execution_count": 11,
   "metadata": {},
   "outputs": [
    {
     "data": {
      "text/plain": [
       "(49, 4)"
      ]
     },
     "execution_count": 11,
     "metadata": {},
     "output_type": "execute_result"
    }
   ],
   "source": [
    "dt.shape"
   ]
  },
  {
   "cell_type": "code",
   "execution_count": null,
   "metadata": {},
   "outputs": [],
   "source": []
  }
 ],
 "metadata": {
  "kernelspec": {
   "display_name": "Python 3",
   "language": "python",
   "name": "python3"
  },
  "language_info": {
   "codemirror_mode": {
    "name": "ipython",
    "version": 3
   },
   "file_extension": ".py",
   "mimetype": "text/x-python",
   "name": "python",
   "nbconvert_exporter": "python",
   "pygments_lexer": "ipython3",
   "version": "3.7.3"
  }
 },
 "nbformat": 4,
 "nbformat_minor": 2
}
