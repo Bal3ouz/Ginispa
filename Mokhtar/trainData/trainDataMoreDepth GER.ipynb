{
 "cells": [
  {
   "cell_type": "code",
   "execution_count": 1,
   "metadata": {},
   "outputs": [],
   "source": [
    "import pandas as pd\n",
    "import sklearn\n",
    "from sklearn.model_selection import train_test_split\n",
    "import numpy as np\n",
    "#from spacy.lang.de import French\n",
    "#parser = French()\n",
    "from sklearn.feature_extraction.text import CountVectorizer,TfidfVectorizer\n",
    "from sklearn.metrics import accuracy_score\n",
    "from sklearn.pipeline import Pipeline\n",
    "from sklearn.svm import LinearSVC\n",
    "from sklearn.svm import SVC\n",
    "import spacy\n",
    "nlp=spacy.load(\"de_core_news_md\")\n",
    "import textacy\n",
    "from sklearn.preprocessing import StandardScaler\n",
    "from sklearn.compose import ColumnTransformer\n"
   ]
  },
  {
   "cell_type": "code",
   "execution_count": 4,
   "metadata": {},
   "outputs": [],
   "source": [
    "X_full = pd.read_excel('../allData/Kopie-von-radarexport_june.xlsx',encoding=\"utf-8\",\n",
    "                      )\n",
    "X_test_full = pd.read_excel('../allData/Kopie-von-radarexport_june.xlsx',encoding=\"utf-8\")\n",
    "\"\"\"\n",
    "temporarily erasing columns: date and lien\n",
    "\"\"\"\n",
    "X_full=X_full.drop([\"letzte relevante Änderung\",\"Umsetzungsstand Norm\",\"URL\"\n",
    "                    ,\"Name der Quelle\",\"Nr. \"],axis=1)\n",
    "\n",
    "y=X_full[[\"Rubrik\"]]\n",
    "X_full=X_full.drop([\"Rubrik\"],axis=1)\n",
    "X_train, X_valid, y_train, y_valid = train_test_split(X_full, y, \n",
    "                                                                train_size=0.5, test_size=0.5,\n",
    "                                                                random_state=1)"
   ]
  },
  {
   "cell_type": "code",
   "execution_count": 5,
   "metadata": {},
   "outputs": [],
   "source": [
    "\n",
    "spacy_stopwords = spacy.lang.de.stop_words.STOP_WORDS\n",
    "stop=list(spacy_stopwords)\n",
    "def spacy_tokenizer(sentence):\n",
    "    sentence=textacy.preprocess_text(sentence,lowercase=True,no_punct=True,no_urls=True\n",
    "                                    ,no_emails=True,no_currency_symbols=True)\n",
    "    se=nlp(sentence)\n",
    "    #mytokens = parser(sentence)\n",
    "    mytokens = [word for word in se]\n",
    "    mytokens = [ word.lemma_.lower().strip() if word.lemma_ != \"-PRON-\" else word.lower_ for word in mytokens ]\n",
    "    mytokens = [ word.strip().lower() for word in mytokens if word.strip().lower() not in stop ]\n",
    "    return mytokens"
   ]
  },
  {
   "cell_type": "code",
   "execution_count": 6,
   "metadata": {},
   "outputs": [],
   "source": [
    "tfvectorizer = TfidfVectorizer(tokenizer = spacy_tokenizer,ngram_range=(1,3))\n",
    "classifier = SVC(C=150, gamma=2e-2, probability=True)\n",
    "#from sklearn.ensemble import RandomForestClassifier\n",
    "#classifier = sklearn.ensemble.RandomForestClassifier() \n",
    "preprocessor = ColumnTransformer(\n",
    "    transformers=[\n",
    "        \n",
    "        (\"article\", tfvectorizer,\"Normenbezeichnung\"),\n",
    "        \n",
    "    ])\n",
    "pipe=Pipeline([(\"preprocessor\",preprocessor),(\"classifier\",classifier)])"
   ]
  },
  {
   "cell_type": "code",
   "execution_count": null,
   "metadata": {},
   "outputs": [
    {
     "name": "stderr",
     "output_type": "stream",
     "text": [
      "/home/mo5/Desktop/desktop/python/jupyter1.0/jupyter1.0_env/lib/python3.7/site-packages/sklearn/utils/validation.py:761: DataConversionWarning: A column-vector y was passed when a 1d array was expected. Please change the shape of y to (n_samples, ), for example using ravel().\n",
      "  y = column_or_1d(y, warn=True)\n"
     ]
    }
   ],
   "source": [
    "\n",
    "pipe.fit(X_train,y_train)\n",
    "pred=pipe.predict(X_valid)"
   ]
  },
  {
   "cell_type": "code",
   "execution_count": null,
   "metadata": {},
   "outputs": [],
   "source": [
    "accuracy_score(y_valid[\"Rubrik\"],pred)"
   ]
  },
  {
   "cell_type": "code",
   "execution_count": null,
   "metadata": {},
   "outputs": [],
   "source": [
    "output = pd.DataFrame({'Rubrik': pred} ,index=X_valid.index)\n",
    "output.to_csv('allDataResultGER.csv')"
   ]
  },
  {
   "cell_type": "code",
   "execution_count": null,
   "metadata": {},
   "outputs": [],
   "source": [
    "def accScore(sentence1,sentence2,res):\n",
    "    dic={\n",
    "    \"article\":sentence1,\n",
    "    \"title\":sentence2\n",
    "        \n",
    "    }\n",
    "    df=pd.DataFrame(dic,index=[0])\n",
    "    predtest=pipe.predict(df)\n",
    "    if( accuracy_score([res],predtest)==1):return \"correct result\"\n",
    "    else : return \"incorrect. Your pred is \"+predtest[0]\n",
    "accScore(\"ennahdha\",\"rached\",\"nahdha\")"
   ]
  },
  {
   "cell_type": "markdown",
   "metadata": {},
   "source": [
    "preds_test = pipe.predict(X_test_full.values.reshape(-1,))\n",
    "output = pd.DataFrame({'id': X_test_full.index,\n",
    "                       'label': preds_test})\n",
    "output.to_csv('test_predictions.csv', index=False)"
   ]
  }
 ],
 "metadata": {
  "kernelspec": {
   "display_name": "Python 3",
   "language": "python",
   "name": "python3"
  },
  "language_info": {
   "codemirror_mode": {
    "name": "ipython",
    "version": 3
   },
   "file_extension": ".py",
   "mimetype": "text/x-python",
   "name": "python",
   "nbconvert_exporter": "python",
   "pygments_lexer": "ipython3",
   "version": "3.7.3"
  }
 },
 "nbformat": 4,
 "nbformat_minor": 2
}
