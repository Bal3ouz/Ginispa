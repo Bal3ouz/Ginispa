{
 "cells": [
  {
   "cell_type": "code",
   "execution_count": 1,
   "metadata": {},
   "outputs": [],
   "source": [
    "import pandas as pd\n",
    "import sklearn\n",
    "from sklearn.model_selection import train_test_split\n",
    "import numpy as np\n",
    "from spacy.lang.fr import French\n",
    "parser = French()\n",
    "from sklearn.feature_extraction.text import CountVectorizer,TfidfVectorizer\n",
    "from sklearn.metrics import accuracy_score\n",
    "from sklearn.pipeline import Pipeline\n",
    "from sklearn.svm import LinearSVC\n",
    "from sklearn.svm import SVC\n",
    "import spacy\n",
    "nlp=spacy.load(\"fr_core_news_md\")\n",
    "import textacy"
   ]
  },
  {
   "cell_type": "code",
   "execution_count": 2,
   "metadata": {},
   "outputs": [],
   "source": [
    "#import the training set\n",
    "X_full = pd.read_csv('allDataWithLabel.csv',encoding=\"utf-8\")\n",
    "#import the testing set (here we don't have one)\n",
    "X_test_full = pd.read_csv('allDataWithLabel.csv',encoding=\"utf-8\")\n",
    "#seperate the labels and the columns\n",
    "y=X_full[[\"label\"]]\n",
    "X_full=X_full.drop([\"label\"],axis=1)\n",
    "#split the training set \n",
    "X_train, X_valid, y_train, y_valid = train_test_split(X_full, y, \n",
    "                                                                train_size=0.5, test_size=0.5,\n",
    "                                                                random_state=1)"
   ]
  },
  {
   "cell_type": "code",
   "execution_count": 3,
   "metadata": {},
   "outputs": [],
   "source": [
    "#make a list of stop words\n",
    "spacy_stopwords = spacy.lang.fr.stop_words.STOP_WORDS\n",
    "stop=list(spacy_stopwords)\n"
   ]
  },
  {
   "cell_type": "code",
   "execution_count": 4,
   "metadata": {},
   "outputs": [],
   "source": [
    "\"\"\"this function transforms a sentence into a list of lower case words and deletes stop words \n",
    "urls etc ...\"\"\"\n",
    "def spacy_tokenizer(sentence):\n",
    "    #delete urls emails currency symbols punct\n",
    "    sentence=textacy.preprocess_text(sentence,lowercase=True,no_punct=True,no_urls=True\n",
    "                                    ,no_emails=True,no_currency_symbols=True)\n",
    "    #tokenization with spacy\n",
    "    spacy_sentence=nlp(sentence)\n",
    "    mytokens = [token for token in spacy_sentence]\n",
    "    #change every token to its original form\n",
    "    mytokens = [ word.lemma_.lower().strip() if word.lemma_ != \"-PRON-\" else word.lower_ for word in mytokens ]\n",
    "    #delete stop words\n",
    "    mytokens = [ word.strip().lower() for word in mytokens if word.strip().lower() not in stop ]\n",
    "    return mytokens"
   ]
  },
  {
   "cell_type": "code",
   "execution_count": 5,
   "metadata": {},
   "outputs": [],
   "source": [
    "#transform the article to a vector of frequencies\n",
    "tfvectorizer = TfidfVectorizer(tokenizer = spacy_tokenizer)\n",
    "#the best classifier : SVC(C=150, gamma=2e-2, probability=True)\n",
    "#work with RandomForestClassifier (just for testing)\n",
    "from sklearn.ensemble import RandomForestClassifier\n",
    "classifier = sklearn.ensemble.RandomForestClassifier() \n",
    "#define our pipeline (more organisation)\n",
    "pipe=Pipeline([(\"vectorizer\",tfvectorizer),(\"classifier\",classifier)])"
   ]
  },
  {
   "cell_type": "code",
   "execution_count": 6,
   "metadata": {},
   "outputs": [
    {
     "name": "stderr",
     "output_type": "stream",
     "text": [
      "/home/mo5/Desktop/desktop/python/jupyter1.0/jupyter1.0_env/lib/python3.7/site-packages/sklearn/ensemble/forest.py:246: FutureWarning: The default value of n_estimators will change from 10 in version 0.20 to 100 in 0.22.\n",
      "  \"10 in version 0.20 to 100 in 0.22.\", FutureWarning)\n",
      "/home/mo5/Desktop/desktop/python/jupyter1.0/jupyter1.0_env/lib/python3.7/site-packages/sklearn/pipeline.py:267: DataConversionWarning: A column-vector y was passed when a 1d array was expected. Please change the shape of y to (n_samples,), for example using ravel().\n",
      "  self._final_estimator.fit(Xt, y, **fit_params)\n"
     ]
    }
   ],
   "source": [
    "#from sklearn.preprocessing import StandardScaler if we want to normalize values \n",
    "#no need for this process because the vectorizer does the job\n",
    "\n",
    "#train our model\n",
    "pipe.fit(X_train[\"article\"],y_train)\n",
    "#protect our mode\n",
    "pred=pipe.predict(X_valid[\"article\"])\n"
   ]
  },
  {
   "cell_type": "code",
   "execution_count": 7,
   "metadata": {},
   "outputs": [
    {
     "data": {
      "text/plain": [
       "0.9895536562203229"
      ]
     },
     "execution_count": 7,
     "metadata": {},
     "output_type": "execute_result"
    }
   ],
   "source": [
    "#test the accuracy\n",
    "accuracy_score(y_valid[\"label\"],pred)"
   ]
  },
  {
   "cell_type": "code",
   "execution_count": 8,
   "metadata": {},
   "outputs": [],
   "source": [
    "\"\"\"\n",
    "function that predict a sentence and compare results\n",
    "\"\"\"\n",
    "def accScore(sentence,res):\n",
    "    \n",
    "    predtest=pipe.predict([sentence])\n",
    "    return predtest\n",
    "    "
   ]
  },
  {
   "cell_type": "markdown",
   "metadata": {},
   "source": [
    "preds_test = pipe.predict(X_test_full.values.reshape(-1,))\n",
    "output = pd.DataFrame({'id': X_test_full.index,\n",
    "                       'label': preds_test})\n",
    "output.to_csv('test_predictions.csv', index=False)"
   ]
  },
  {
   "cell_type": "code",
   "execution_count": null,
   "metadata": {},
   "outputs": [],
   "source": []
  }
 ],
 "metadata": {
  "kernelspec": {
   "display_name": "Python 3",
   "language": "python",
   "name": "python3"
  },
  "language_info": {
   "codemirror_mode": {
    "name": "ipython",
    "version": 3
   },
   "file_extension": ".py",
   "mimetype": "text/x-python",
   "name": "python",
   "nbconvert_exporter": "python",
   "pygments_lexer": "ipython3",
   "version": "3.7.3"
  }
 },
 "nbformat": 4,
 "nbformat_minor": 2
}
