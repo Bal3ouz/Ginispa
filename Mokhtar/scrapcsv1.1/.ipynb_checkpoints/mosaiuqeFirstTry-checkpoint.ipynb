{
 "cells": [
  {
   "cell_type": "code",
   "execution_count": 1,
   "metadata": {},
   "outputs": [],
   "source": [
    "import sklearn\n",
    "import numpy as np\n",
    "from spacy.lang.fr import French\n",
    "parser = French()\n",
    "from sklearn.feature_extraction.text import CountVectorizer,TfidfVectorizer\n",
    "import textacy\n",
    "import pandas as pd\n",
    "from sklearn.pipeline import Pipeline\n",
    "from sklearn.model_selection import train_test_split\n",
    "\n",
    "import spacy"
   ]
  },
  {
   "cell_type": "code",
   "execution_count": 2,
   "metadata": {},
   "outputs": [],
   "source": [
    "nlp=spacy.load(\"fr_core_news_md\")"
   ]
  },
  {
   "cell_type": "code",
   "execution_count": 3,
   "metadata": {},
   "outputs": [],
   "source": [
    "X1=pd.read_csv(\"data.csv\")\n",
    "\n"
   ]
  },
  {
   "cell_type": "code",
   "execution_count": 8,
   "metadata": {},
   "outputs": [
    {
     "data": {
      "text/plain": [
       "0                   Mohamed Naceur se rend au Parlement\n",
       "1     'Il n'y a pas de vacance à la présidence de la...\n",
       "2     Chahed et Caid Essebsi junior rendent visite a...\n",
       "3     Loi électorale: Chahed appelle à la révision d...\n",
       "4     Nabil Karoui, à la tête d’un parti politique (...\n",
       "5      HCE : certains ont tenté de s’emparer du pouvoir\n",
       "6     HCE :  Il n'y aucun accord entre Nidaa Tounes ...\n",
       "7     Chaouachi : Les députés évitent d'évoquer l'ét...\n",
       "8     Caid Essebsi se présenterait à un second manda...\n",
       "9     M.Ben Ahmed, vice-président de bureau politiqu...\n",
       "10    Harouni : 'Ennahdha ne craint pas les concurre...\n",
       "11      Lancement de l’initiative ''Tounes Tajama’ona''\n",
       "12    Rahoui : H.Hammami n’est plus porte-parole d’A...\n",
       "13                 L’avocat de Slim Riahi relance l’UPL\n",
       "14    H.Caid Essebsi, représentant légal de Nidaa To...\n",
       "15    Un militaire retraité, tête de liste d’Afek To...\n",
       "16    Ghannouchi souhaite un prompt rétablissement à...\n",
       "17      Neji Jalloul quitte définitivement Nidaa Tounes\n",
       "18    Lazhar Akermi, ministre conseiller auprès du c...\n",
       "19    ARP: Plus de 40 signatures contre l'amendement...\n",
       "20               Al Massar dans une nouvelle coalition \n",
       "21    Loi électorale : Possible recours pour inconst...\n",
       "22    Hammami : L'adoption de la loi électorale est ...\n",
       "23    Ennahdha: 55 députés renouvellent leurs candid...\n",
       "24    Ons Hattab rejette l'amendement de la loi élec...\n",
       "25    Loi électorale: Nabil Karoui annonce le suicid...\n",
       "26    Pétition contre la loi électorale : 12 signatu...\n",
       "27                  Mourou victime d'un malaise à l'ARP\n",
       "28    Ahmed Seddik pour un recours contre la loi éle...\n",
       "29    Basma Belaid: Campagne de dénigrement contre l...\n",
       "30                            La loi électorale adoptée\n",
       "31    Nidaa Tounes intente un procès contre Fadhel M...\n",
       "Name: title, dtype: object"
      ]
     },
     "execution_count": 8,
     "metadata": {},
     "output_type": "execute_result"
    }
   ],
   "source": [
    "X1[\"title\"]"
   ]
  },
  {
   "cell_type": "code",
   "execution_count": 4,
   "metadata": {},
   "outputs": [],
   "source": [
    "spacy_stopwords = spacy.lang.fr.stop_words.STOP_WORDS\n",
    "stop=list(spacy_stopwords)"
   ]
  },
  {
   "cell_type": "code",
   "execution_count": 5,
   "metadata": {},
   "outputs": [],
   "source": [
    "def spacy_tokenizer(sentence):\n",
    "    sentence=textacy.preprocess_text(sentence,lowercase=True,no_punct=True,no_urls=True\n",
    "                                    ,no_emails=True,no_currency_symbols=True)\n",
    "    mytokens = parser(sentence)\n",
    "    mytokens = [ word.lemma_.lower().strip() if word.lemma_ != \"-PRON-\" else word.lower_ for word in mytokens ]\n",
    "    mytokens = [ word.strip().lower() for word in mytokens if word.strip().lower() not in stop ]\n",
    "    return mytokens"
   ]
  },
  {
   "cell_type": "code",
   "execution_count": 6,
   "metadata": {},
   "outputs": [],
   "source": [
    "X1=X1.dropna(axis=0)"
   ]
  },
  {
   "cell_type": "code",
   "execution_count": 7,
   "metadata": {},
   "outputs": [
    {
     "data": {
      "text/plain": [
       "Index(['article', 'date', 'lien', 'title'], dtype='object')"
      ]
     },
     "execution_count": 7,
     "metadata": {},
     "output_type": "execute_result"
    }
   ],
   "source": [
    "X1.columns"
   ]
  },
  {
   "cell_type": "code",
   "execution_count": 8,
   "metadata": {},
   "outputs": [],
   "source": [
    "tfvectorizer = TfidfVectorizer(tokenizer = spacy_tokenizer)"
   ]
  },
  {
   "cell_type": "code",
   "execution_count": 9,
   "metadata": {},
   "outputs": [],
   "source": [
    "from sklearn.cluster import KMeans\n",
    "classifier = kmeans = KMeans(n_clusters=8, random_state=0)\n",
    "pipe=Pipeline([(\"vectorizer\",tfvectorizer),(\"classifier\",classifier)])"
   ]
  },
  {
   "cell_type": "code",
   "execution_count": 10,
   "metadata": {},
   "outputs": [
    {
     "data": {
      "text/plain": [
       "Pipeline(memory=None,\n",
       "     steps=[('vectorizer', TfidfVectorizer(analyzer='word', binary=False, decode_error='strict',\n",
       "        dtype=<class 'numpy.float64'>, encoding='utf-8', input='content',\n",
       "        lowercase=True, max_df=1.0, max_features=None, min_df=1,\n",
       "        ngram_range=(1, 1), norm='l2', preprocessor=None, smooth_idf=...8, n_init=10, n_jobs=None, precompute_distances='auto',\n",
       "    random_state=0, tol=0.0001, verbose=0))])"
      ]
     },
     "execution_count": 10,
     "metadata": {},
     "output_type": "execute_result"
    }
   ],
   "source": [
    "pipe.fit(X1[\"article\"])"
   ]
  },
  {
   "cell_type": "code",
   "execution_count": 11,
   "metadata": {},
   "outputs": [
    {
     "data": {
      "text/plain": [
       "array([3, 3, 5], dtype=int32)"
      ]
     },
     "execution_count": 11,
     "metadata": {},
     "output_type": "execute_result"
    }
   ],
   "source": [
    "test1=\"nida\"\n",
    "test2=\"nahdha\"\n",
    "test3=\"youssef chahed\"\n",
    "test4\n",
    "pred1=pipe.predict([test1,test2,test3])\n",
    "pred1"
   ]
  },
  {
   "cell_type": "code",
   "execution_count": 23,
   "metadata": {},
   "outputs": [],
   "source": [
    "pred11=[pred1]"
   ]
  },
  {
   "cell_type": "code",
   "execution_count": 25,
   "metadata": {},
   "outputs": [
    {
     "data": {
      "text/plain": [
       "array([4, 4], dtype=int32)"
      ]
     },
     "execution_count": 25,
     "metadata": {},
     "output_type": "execute_result"
    }
   ],
   "source": [
    "pred1"
   ]
  },
  {
   "cell_type": "code",
   "execution_count": null,
   "metadata": {},
   "outputs": [],
   "source": []
  }
 ],
 "metadata": {
  "kernelspec": {
   "display_name": "Python 3",
   "language": "python",
   "name": "python3"
  },
  "language_info": {
   "codemirror_mode": {
    "name": "ipython",
    "version": 3
   },
   "file_extension": ".py",
   "mimetype": "text/x-python",
   "name": "python",
   "nbconvert_exporter": "python",
   "pygments_lexer": "ipython3",
   "version": "3.7.3"
  }
 },
 "nbformat": 4,
 "nbformat_minor": 2
}
