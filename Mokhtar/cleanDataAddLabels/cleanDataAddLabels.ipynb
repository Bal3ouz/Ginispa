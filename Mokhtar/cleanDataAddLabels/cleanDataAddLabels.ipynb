{
 "cells": [
  {
   "cell_type": "code",
   "execution_count": 40,
   "metadata": {},
   "outputs": [],
   "source": [
    "import sklearn\n",
    "import pandas as pd\n",
    "import numpy as np\n",
    "import seaborn as sns\n",
    "import matplotlib.pyplot as plt\n",
    "from sklearn.feature_extraction.text import CountVectorizer,TfidfVectorizer\n",
    "\n",
    "import re\n",
    "import os\n"
   ]
  },
  {
   "cell_type": "code",
   "execution_count": 41,
   "metadata": {},
   "outputs": [],
   "source": [
    "#allData=pd.read_csv(\"../allData/allData.csv\")\n",
    "#import the data to preprocess\n",
    "allData=pd.read_csv(\"allData.csv\",encoding=\"utf-8\")"
   ]
  },
  {
   "cell_type": "code",
   "execution_count": 42,
   "metadata": {},
   "outputs": [],
   "source": [
    "#transform the columns :article, title to string\n",
    "for ind in allData.index:\n",
    "    allData.at[ind,\"article\"]=str(allData.at[ind,\"article\"])\n",
    "    allData.at[ind,\"title\"]=str(allData.at[ind,\"title\"])\n",
    "\n",
    "    "
   ]
  },
  {
   "cell_type": "code",
   "execution_count": 43,
   "metadata": {},
   "outputs": [],
   "source": [
    "#remove no needed symbols and punctuatuion\n",
    "for ind in allData.index:\n",
    "    allData.at[ind,\"article\"]=re.sub(\"\\A\\[(.*)\\]\\Z\",r'\\1',allData.at[ind,\"article\"])\n",
    "    allData.at[ind,\"article\"]=re.sub(\"\\A'(.*)'\\Z\",r'\\1',allData.at[ind,\"article\"])\n",
    "    allData.at[ind,\"article\"]=re.sub('\\A\"(.*)\"\\Z',r'\\1',allData.at[ind,\"article\"])\n",
    "\n",
    "    \n",
    "    "
   ]
  },
  {
   "cell_type": "code",
   "execution_count": 45,
   "metadata": {},
   "outputs": [],
   "source": [
    "#drop all the rows that contains empty cells\n",
    "allData=allData.dropna(axis=\"index\")"
   ]
  },
  {
   "cell_type": "code",
   "execution_count": 46,
   "metadata": {},
   "outputs": [],
   "source": [
    "#drop all articles that contain nan values\n",
    "for ind in allData.index:\n",
    "    if(allData.at[ind,\"article\"]==\"nan\"):\n",
    "        allData=allData.drop([ind],axis=\"index\")\n",
    "allData.index=range(0,allData.shape[0])"
   ]
  },
  {
   "cell_type": "code",
   "execution_count": 48,
   "metadata": {},
   "outputs": [],
   "source": [
    "#first try to add labels\n",
    "#make vectorizer based on the number off occurence\n",
    "test={}\n",
    "test[\"nidaa\"]=CountVectorizer(ngram_range=(2,2))\n",
    "test[\"nahdha\"]=CountVectorizer(ngram_range=(1,1))\n",
    "test[\"nidaa\"].fit([\"nidaa tounes\"])\n",
    "test[\"nahdha\"].fit([\"nahdha ennahdha\"])"
   ]
  },
  {
   "cell_type": "code",
   "execution_count": 53,
   "metadata": {},
   "outputs": [],
   "source": [
    "#add an empty label column\n",
    "allData['label'] = pd.Series( index=allData.index,dtype=str)"
   ]
  },
  {
   "cell_type": "code",
   "execution_count": 54,
   "metadata": {},
   "outputs": [],
   "source": [
    "#first test in adding labels based on simple bow\n",
    "count={}\n",
    "for row in range(0,allData.shape[0]):\n",
    "    count[\"nahdha\"]=test[\"nahdha\"].transform([allData.at[row,\"title\"]+allData.at[row,\"article\"]]).toarray().sum()\n",
    "    count[\"nidaa\"]=test[\"nidaa\"].transform([allData.at[row,\"title\"]+allData.at[row,\"article\"]]).toarray().sum()\n",
    "    if(count[\"nahdha\"]>0): allData.at[row,\"label\"]=\"nahdha\"\n",
    "    elif(count[\"nidaa\"]>0): allData.at[row,\"label\"]=\"nidaa\"\n",
    "    else : allData.at[row,\"label\"]=\"autres\""
   ]
  },
  {
   "cell_type": "code",
   "execution_count": 57,
   "metadata": {},
   "outputs": [],
   "source": [
    "#convert the dataframe to a csv file\n",
    "allData.to_csv(\"allDataWithLabel.csv\",index=False)"
   ]
  }
 ],
 "metadata": {
  "kernelspec": {
   "display_name": "Python 3",
   "language": "python",
   "name": "python3"
  },
  "language_info": {
   "codemirror_mode": {
    "name": "ipython",
    "version": 3
   },
   "file_extension": ".py",
   "mimetype": "text/x-python",
   "name": "python",
   "nbconvert_exporter": "python",
   "pygments_lexer": "ipython3",
   "version": "3.7.3"
  }
 },
 "nbformat": 4,
 "nbformat_minor": 2
}
